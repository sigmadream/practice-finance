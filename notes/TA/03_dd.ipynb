{
 "cells": [
  {
   "cell_type": "markdown",
   "metadata": {
    "pycharm": {
     "name": "#%% md\n"
    }
   },
   "source": [
    "# 일별수익률 & 누적수익률"
   ]
  },
  {
   "cell_type": "code",
   "execution_count": 31,
   "metadata": {
    "ExecuteTime": {
     "end_time": "2021-12-13T06:38:01.195752Z",
     "start_time": "2021-12-13T06:38:01.030165Z"
    },
    "pycharm": {
     "name": "#%%\n"
    }
   },
   "outputs": [
    {
     "data": {
      "text/plain": "             Close\nDate              \n2021-01-04  293000\n2021-01-05  292500\n2021-01-06  290000\n2021-01-07  289500\n2021-01-08  312000\n...            ...\n2022-07-11  240500\n2022-07-12  233500\n2022-07-13  237500\n2022-07-14  233500\n2022-07-15  231000\n\n[380 rows x 1 columns]",
      "text/html": "<div>\n<style scoped>\n    .dataframe tbody tr th:only-of-type {\n        vertical-align: middle;\n    }\n\n    .dataframe tbody tr th {\n        vertical-align: top;\n    }\n\n    .dataframe thead th {\n        text-align: right;\n    }\n</style>\n<table border=\"1\" class=\"dataframe\">\n  <thead>\n    <tr style=\"text-align: right;\">\n      <th></th>\n      <th>Close</th>\n    </tr>\n    <tr>\n      <th>Date</th>\n      <th></th>\n    </tr>\n  </thead>\n  <tbody>\n    <tr>\n      <th>2021-01-04</th>\n      <td>293000</td>\n    </tr>\n    <tr>\n      <th>2021-01-05</th>\n      <td>292500</td>\n    </tr>\n    <tr>\n      <th>2021-01-06</th>\n      <td>290000</td>\n    </tr>\n    <tr>\n      <th>2021-01-07</th>\n      <td>289500</td>\n    </tr>\n    <tr>\n      <th>2021-01-08</th>\n      <td>312000</td>\n    </tr>\n    <tr>\n      <th>...</th>\n      <td>...</td>\n    </tr>\n    <tr>\n      <th>2022-07-11</th>\n      <td>240500</td>\n    </tr>\n    <tr>\n      <th>2022-07-12</th>\n      <td>233500</td>\n    </tr>\n    <tr>\n      <th>2022-07-13</th>\n      <td>237500</td>\n    </tr>\n    <tr>\n      <th>2022-07-14</th>\n      <td>233500</td>\n    </tr>\n    <tr>\n      <th>2022-07-15</th>\n      <td>231000</td>\n    </tr>\n  </tbody>\n</table>\n<p>380 rows × 1 columns</p>\n</div>"
     },
     "execution_count": 31,
     "metadata": {},
     "output_type": "execute_result"
    }
   ],
   "source": [
    "import FinanceDataReader as fdr\n",
    "df = fdr.DataReader(\"035420\", start = '2021')\n",
    "df = df[['Close']]\n",
    "df"
   ]
  },
  {
   "cell_type": "code",
   "execution_count": 34,
   "metadata": {
    "ExecuteTime": {
     "end_time": "2021-12-13T07:20:30.524677Z",
     "start_time": "2021-12-13T07:20:30.513423Z"
    },
    "scrolled": false,
    "pycharm": {
     "name": "#%%\n"
    }
   },
   "outputs": [],
   "source": [
    "def return_fn(df):\n",
    "    return df['Close'].pct_change().fillna(0)"
   ]
  },
  {
   "cell_type": "code",
   "execution_count": 35,
   "outputs": [
    {
     "data": {
      "text/plain": "Date\n2021-01-04    0.000000\n2021-01-05   -0.001706\n2021-01-06   -0.008547\n2021-01-07   -0.001724\n2021-01-08    0.077720\n                ...   \n2022-07-11   -0.034137\n2022-07-12   -0.029106\n2022-07-13    0.017131\n2022-07-14   -0.016842\n2022-07-15   -0.010707\nName: Close, Length: 380, dtype: float64"
     },
     "execution_count": 35,
     "metadata": {},
     "output_type": "execute_result"
    }
   ],
   "source": [
    "df_return = return_fn(df)\n",
    "df_return"
   ],
   "metadata": {
    "collapsed": false,
    "pycharm": {
     "name": "#%%\n"
    }
   }
  },
  {
   "cell_type": "code",
   "execution_count": 36,
   "metadata": {
    "ExecuteTime": {
     "end_time": "2021-12-13T07:23:31.012018Z",
     "start_time": "2021-12-13T07:23:31.002642Z"
    },
    "pycharm": {
     "name": "#%%\n"
    }
   },
   "outputs": [],
   "source": [
    "def cum_return_fn(df_return):\n",
    "    return (1 + df_return).cumprod()"
   ]
  },
  {
   "cell_type": "code",
   "execution_count": 37,
   "outputs": [
    {
     "data": {
      "text/plain": "Date\n2021-01-04    0.000000\n2021-01-05   -0.001706\n2021-01-06   -0.010239\n2021-01-07   -0.011945\n2021-01-08    0.064846\n                ...   \n2022-07-11   -0.179181\n2022-07-12   -0.203072\n2022-07-13   -0.189420\n2022-07-14   -0.203072\n2022-07-15   -0.211604\nName: Close, Length: 380, dtype: float64"
     },
     "execution_count": 37,
     "metadata": {},
     "output_type": "execute_result"
    }
   ],
   "source": [
    "df_cum_return = cum_return_fn(df_return)\n",
    "df_cum_return  - 1"
   ],
   "metadata": {
    "collapsed": false,
    "pycharm": {
     "name": "#%%\n"
    }
   }
  },
  {
   "cell_type": "markdown",
   "metadata": {
    "ExecuteTime": {
     "end_time": "2021-12-13T06:44:59.420536Z",
     "start_time": "2021-12-13T06:44:59.407345Z"
    },
    "pycharm": {
     "name": "#%% md\n"
    }
   },
   "source": [
    "# Draw Down"
   ]
  },
  {
   "cell_type": "code",
   "execution_count": 38,
   "metadata": {
    "ExecuteTime": {
     "end_time": "2021-12-13T10:08:20.354439Z",
     "start_time": "2021-12-13T10:08:20.180915Z"
    },
    "scrolled": false,
    "pycharm": {
     "name": "#%%\n"
    }
   },
   "outputs": [
    {
     "data": {
      "text/plain": "             Close\nDate              \n2021-01-04  293000\n2021-01-05  292500\n2021-01-06  290000\n2021-01-07  289500\n2021-01-08  312000\n...            ...\n2022-07-11  240500\n2022-07-12  233500\n2022-07-13  237500\n2022-07-14  233500\n2022-07-15  231000\n\n[380 rows x 1 columns]",
      "text/html": "<div>\n<style scoped>\n    .dataframe tbody tr th:only-of-type {\n        vertical-align: middle;\n    }\n\n    .dataframe tbody tr th {\n        vertical-align: top;\n    }\n\n    .dataframe thead th {\n        text-align: right;\n    }\n</style>\n<table border=\"1\" class=\"dataframe\">\n  <thead>\n    <tr style=\"text-align: right;\">\n      <th></th>\n      <th>Close</th>\n    </tr>\n    <tr>\n      <th>Date</th>\n      <th></th>\n    </tr>\n  </thead>\n  <tbody>\n    <tr>\n      <th>2021-01-04</th>\n      <td>293000</td>\n    </tr>\n    <tr>\n      <th>2021-01-05</th>\n      <td>292500</td>\n    </tr>\n    <tr>\n      <th>2021-01-06</th>\n      <td>290000</td>\n    </tr>\n    <tr>\n      <th>2021-01-07</th>\n      <td>289500</td>\n    </tr>\n    <tr>\n      <th>2021-01-08</th>\n      <td>312000</td>\n    </tr>\n    <tr>\n      <th>...</th>\n      <td>...</td>\n    </tr>\n    <tr>\n      <th>2022-07-11</th>\n      <td>240500</td>\n    </tr>\n    <tr>\n      <th>2022-07-12</th>\n      <td>233500</td>\n    </tr>\n    <tr>\n      <th>2022-07-13</th>\n      <td>237500</td>\n    </tr>\n    <tr>\n      <th>2022-07-14</th>\n      <td>233500</td>\n    </tr>\n    <tr>\n      <th>2022-07-15</th>\n      <td>231000</td>\n    </tr>\n  </tbody>\n</table>\n<p>380 rows × 1 columns</p>\n</div>"
     },
     "execution_count": 38,
     "metadata": {},
     "output_type": "execute_result"
    }
   ],
   "source": [
    "import FinanceDataReader as fdr\n",
    "\n",
    "df = fdr.DataReader(\"035420\", start = '2021')\n",
    "df = df[['Close']]\n",
    "df"
   ]
  },
  {
   "cell_type": "code",
   "execution_count": 39,
   "metadata": {
    "ExecuteTime": {
     "end_time": "2021-12-13T10:08:25.818066Z",
     "start_time": "2021-12-13T10:08:25.812989Z"
    },
    "pycharm": {
     "name": "#%%\n"
    }
   },
   "outputs": [],
   "source": [
    "def return_fn(df):\n",
    "    return df['Close'].pct_change().fillna(0)\n",
    "def cum_return_fn(df_return):\n",
    "    return (1 + df_return).cumprod()"
   ]
  },
  {
   "cell_type": "code",
   "execution_count": 40,
   "metadata": {
    "ExecuteTime": {
     "end_time": "2021-12-13T10:12:35.443443Z",
     "start_time": "2021-12-13T10:12:35.421325Z"
    },
    "pycharm": {
     "name": "#%%\n"
    }
   },
   "outputs": [
    {
     "name": "stdout",
     "output_type": "stream",
     "text": [
      "-0.49559471365638763\n"
     ]
    }
   ],
   "source": [
    "df['Return'] = return_fn(df)\n",
    "df['CumReturn'] = cum_return_fn(df['Return'])\n",
    "df['MaxCumReturn'] = df['CumReturn'].cummax()\n",
    "df['DrawDown'] = (df['CumReturn'] / df['MaxCumReturn']) -1\n",
    "print(df['DrawDown'].min())"
   ]
  },
  {
   "cell_type": "code",
   "execution_count": 41,
   "metadata": {
    "ExecuteTime": {
     "end_time": "2021-12-13T10:13:09.106417Z",
     "start_time": "2021-12-13T10:13:08.901323Z"
    },
    "pycharm": {
     "name": "#%%\n"
    }
   },
   "outputs": [
    {
     "data": {
      "text/plain": "<AxesSubplot:xlabel='Date'>"
     },
     "execution_count": 41,
     "metadata": {},
     "output_type": "execute_result"
    },
    {
     "data": {
      "text/plain": "<Figure size 432x288 with 1 Axes>",
      "image/png": "[encoded data removed]"
     },
     "metadata": {
      "needs_background": "light"
     },
     "output_type": "display_data"
    }
   ],
   "source": [
    "df['DrawDown'].plot()"
   ]
  },
  {
   "cell_type": "markdown",
   "metadata": {
    "pycharm": {
     "name": "#%% md\n"
    }
   },
   "source": [
    "# 종목정보"
   ]
  },
  {
   "cell_type": "code",
   "execution_count": 42,
   "metadata": {
    "ExecuteTime": {
     "end_time": "2021-12-13T11:45:27.613054Z",
     "start_time": "2021-12-13T11:45:27.561675Z"
    },
    "pycharm": {
     "name": "#%%\n"
    }
   },
   "outputs": [
    {
     "data": {
      "text/plain": "             Close    Return  CumReturn  MaxCumReturn  DrawDown\nDate                                                           \n2021-01-04  293000  0.000000   1.000000      1.000000  0.000000\n2021-01-05  292500 -0.001706   0.998294      1.000000 -0.001706\n2021-01-06  290000 -0.008547   0.989761      1.000000 -0.010239\n2021-01-07  289500 -0.001724   0.988055      1.000000 -0.011945\n2021-01-08  312000  0.077720   1.064846      1.064846  0.000000\n...            ...       ...        ...           ...       ...\n2022-07-11  240500 -0.034137   0.820819      1.549488 -0.470264\n2022-07-12  233500 -0.029106   0.796928      1.549488 -0.485683\n2022-07-13  237500  0.017131   0.810580      1.549488 -0.476872\n2022-07-14  233500 -0.016842   0.796928      1.549488 -0.485683\n2022-07-15  231000 -0.010707   0.788396      1.549488 -0.491189\n\n[380 rows x 5 columns]",
      "text/html": "<div>\n<style scoped>\n    .dataframe tbody tr th:only-of-type {\n        vertical-align: middle;\n    }\n\n    .dataframe tbody tr th {\n        vertical-align: top;\n    }\n\n    .dataframe thead th {\n        text-align: right;\n    }\n</style>\n<table border=\"1\" class=\"dataframe\">\n  <thead>\n    <tr style=\"text-align: right;\">\n      <th></th>\n      <th>Close</th>\n      <th>Return</th>\n      <th>CumReturn</th>\n      <th>MaxCumReturn</th>\n      <th>DrawDown</th>\n    </tr>\n    <tr>\n      <th>Date</th>\n      <th></th>\n      <th></th>\n      <th></th>\n      <th></th>\n      <th></th>\n    </tr>\n  </thead>\n  <tbody>\n    <tr>\n      <th>2021-01-04</th>\n      <td>293000</td>\n      <td>0.000000</td>\n      <td>1.000000</td>\n      <td>1.000000</td>\n      <td>0.000000</td>\n    </tr>\n    <tr>\n      <th>2021-01-05</th>\n      <td>292500</td>\n      <td>-0.001706</td>\n      <td>0.998294</td>\n      <td>1.000000</td>\n      <td>-0.001706</td>\n    </tr>\n    <tr>\n      <th>2021-01-06</th>\n      <td>290000</td>\n      <td>-0.008547</td>\n      <td>0.989761</td>\n      <td>1.000000</td>\n      <td>-0.010239</td>\n    </tr>\n    <tr>\n      <th>2021-01-07</th>\n      <td>289500</td>\n      <td>-0.001724</td>\n      <td>0.988055</td>\n      <td>1.000000</td>\n      <td>-0.011945</td>\n    </tr>\n    <tr>\n      <th>2021-01-08</th>\n      <td>312000</td>\n      <td>0.077720</td>\n      <td>1.064846</td>\n      <td>1.064846</td>\n      <td>0.000000</td>\n    </tr>\n    <tr>\n      <th>...</th>\n      <td>...</td>\n      <td>...</td>\n      <td>...</td>\n      <td>...</td>\n      <td>...</td>\n    </tr>\n    <tr>\n      <th>2022-07-11</th>\n      <td>240500</td>\n      <td>-0.034137</td>\n      <td>0.820819</td>\n      <td>1.549488</td>\n      <td>-0.470264</td>\n    </tr>\n    <tr>\n      <th>2022-07-12</th>\n      <td>233500</td>\n      <td>-0.029106</td>\n      <td>0.796928</td>\n      <td>1.549488</td>\n      <td>-0.485683</td>\n    </tr>\n    <tr>\n      <th>2022-07-13</th>\n      <td>237500</td>\n      <td>0.017131</td>\n      <td>0.810580</td>\n      <td>1.549488</td>\n      <td>-0.476872</td>\n    </tr>\n    <tr>\n      <th>2022-07-14</th>\n      <td>233500</td>\n      <td>-0.016842</td>\n      <td>0.796928</td>\n      <td>1.549488</td>\n      <td>-0.485683</td>\n    </tr>\n    <tr>\n      <th>2022-07-15</th>\n      <td>231000</td>\n      <td>-0.010707</td>\n      <td>0.788396</td>\n      <td>1.549488</td>\n      <td>-0.491189</td>\n    </tr>\n  </tbody>\n</table>\n<p>380 rows × 5 columns</p>\n</div>"
     },
     "execution_count": 42,
     "metadata": {},
     "output_type": "execute_result"
    }
   ],
   "source": [
    "df"
   ]
  },
  {
   "cell_type": "code",
   "execution_count": 43,
   "metadata": {
    "ExecuteTime": {
     "end_time": "2021-12-13T11:45:40.805507Z",
     "start_time": "2021-12-13T11:45:40.793746Z"
    },
    "pycharm": {
     "name": "#%%\n"
    }
   },
   "outputs": [
    {
     "data": {
      "text/plain": "-0.49559471365638763"
     },
     "execution_count": 43,
     "metadata": {},
     "output_type": "execute_result"
    }
   ],
   "source": [
    "mdd = df['DrawDown'].min()\n",
    "mdd"
   ]
  },
  {
   "cell_type": "code",
   "execution_count": 44,
   "metadata": {
    "ExecuteTime": {
     "end_time": "2021-12-13T12:10:02.277767Z",
     "start_time": "2021-12-13T12:10:02.267766Z"
    },
    "pycharm": {
     "name": "#%%\n"
    }
   },
   "outputs": [
    {
     "name": "stdout",
     "output_type": "stream",
     "text": [
      "최고: 454000\n",
      "최저: 229000\n",
      "MDD: -49.56\n",
      "최저날짜: 2022-06-22 00:00:00\n"
     ]
    }
   ],
   "source": [
    "#최저가\n",
    "min_close_value = df['Close'].min()\n",
    "\n",
    "# 최저가 날짜\n",
    "min_date = df.index[df['Close'].argmin()]\n",
    "\n",
    "# 최고가\n",
    "max_close_value = df['Close'].max()\n",
    "\n",
    "# mdd\n",
    "round(mdd*100,2)\n",
    "print(f\"최고: {max_close_value}\\n최저: {min_close_value}\\nMDD: {round(mdd*100,2)}\\n최저날짜: {min_date}\")"
   ]
  },
  {
   "cell_type": "code",
   "execution_count": 46,
   "metadata": {
    "ExecuteTime": {
     "end_time": "2021-12-13T12:19:07.871078Z",
     "start_time": "2021-12-13T12:19:07.852047Z"
    },
    "pycharm": {
     "name": "#%%\n"
    }
   },
   "outputs": [
    {
     "name": "stdout",
     "output_type": "stream",
     "text": [
      "MAX Draw Down: 2021-09-06 ~ 2022-07-15\n",
      "312 days\n",
      "max period : 312\n"
     ]
    }
   ],
   "source": [
    "df_max_close = df[df['DrawDown'] == 0].copy()\n",
    "df_max_close.loc[df.index[len(df)-1]] = 0\n",
    "period = df_max_close.index[1:] - df_max_close.index[:-1]\n",
    "mdd_days = period.days\n",
    "max_period = mdd_days.max()\n",
    "max_period_idx = mdd_days.argmax()\n",
    "print(f\"MAX Draw Down: {df_max_close.index[:-1][max_period_idx].date()} ~ {df_max_close.index[1:][max_period_idx].date()}\")\n",
    "print(f\"{max_period} days\")\n",
    "print(f\"max period : {max_period}\")"
   ]
  },
  {
   "cell_type": "markdown",
   "metadata": {
    "ExecuteTime": {
     "end_time": "2021-12-13T12:17:39.892316Z",
     "start_time": "2021-12-13T12:17:39.876400Z"
    },
    "pycharm": {
     "name": "#%% md\n"
    }
   },
   "source": [
    "# mdd_fn"
   ]
  },
  {
   "cell_type": "code",
   "execution_count": 47,
   "metadata": {
    "ExecuteTime": {
     "end_time": "2021-12-13T14:34:03.388054Z",
     "start_time": "2021-12-13T14:34:03.368207Z"
    },
    "pycharm": {
     "name": "#%%\n"
    }
   },
   "outputs": [],
   "source": [
    "def mdd_fn(df):\n",
    "    df = df[['Close']].copy()\n",
    "    def return_fn(df):\n",
    "        return df['Close'].pct_change().fillna(0)\n",
    "    def cum_return_fn(df_return):\n",
    "        return (1 + df_return).cumprod()\n",
    "    df['Return'] = return_fn(df)\n",
    "    df['CumReturn'] = cum_return_fn(df['Return'])\n",
    "    df['MaxCumReturn'] = df['CumReturn'].cummax()\n",
    "    df['DrawDown'] = (df['CumReturn'] / df['MaxCumReturn']) -1\n",
    "    mdd = df['DrawDown'].min()\n",
    "    list_info = list()\n",
    "    # 최저가\n",
    "    min_close_value = df['Close'].min()\n",
    "    # 최고가\n",
    "    max_close_value = df['Close'].max()\n",
    "    print(\"최고: {max_close_value}\\n최저: {min_close_value}\\nMDD: {round(mdd*100,2)}\")\n",
    "    df_max_close = df[df['DrawDown'] == 0].copy()\n",
    "    df_max_close.loc[df.index[len(df)-1]] = 0\n",
    "    period = df_max_close.index[1:] - df_max_close.index[:-1]\n",
    "    mdd_days = period.days\n",
    "    max_period = mdd_days.max()\n",
    "    max_period_idx = mdd_days.argmax()\n",
    "    print(f\"MAX Draw Down: {df_max_close.index[:-1][max_period_idx].date()} ~ {df_max_close.index[1:][max_period_idx].date()}\")\n",
    "    print(f\"{max_period} days\")\n",
    "    print(f\"max period : {max_period}\")\n",
    "    \n",
    "    list_info.append(max_close_value)\n",
    "    list_info.append(min_close_value)\n",
    "    list_info.append(round(mdd*100,2))\n",
    "    list_info.append(df_max_close.index[:-1][max_period_idx].date())\n",
    "    list_info.append(df_max_close.index[1:][max_period_idx].date())\n",
    "    list_info.append(max_period)\n",
    "          \n",
    "    return df, list_info\n"
   ]
  },
  {
   "cell_type": "code",
   "execution_count": 48,
   "metadata": {
    "ExecuteTime": {
     "end_time": "2021-12-13T14:34:24.971238Z",
     "start_time": "2021-12-13T14:34:24.751464Z"
    },
    "pycharm": {
     "name": "#%%\n"
    }
   },
   "outputs": [
    {
     "data": {
      "text/plain": "              Open    High     Low   Close   Volume    Change\nDate                                                         \n2021-01-04  291500  294000  285500  293000   947178  0.001709\n2021-01-05  291500  292500  286500  292500   912657 -0.001706\n2021-01-06  292500  300500  289500  290000  1375856 -0.008547\n2021-01-07  288500  292000  286500  289500  1155734 -0.001724\n2021-01-08  293500  312000  290000  312000  3175396  0.077720\n...            ...     ...     ...     ...      ...       ...\n2022-07-11  246000  248000  238500  240500   554603 -0.034137\n2022-07-12  236500  237500  230500  233500   601679 -0.029106\n2022-07-13  232000  239000  232000  237500   451619  0.017131\n2022-07-14  232000  236000  231000  233500   611226 -0.016842\n2022-07-15  234500  234500  228000  231000   812766 -0.010707\n\n[380 rows x 6 columns]",
      "text/html": "<div>\n<style scoped>\n    .dataframe tbody tr th:only-of-type {\n        vertical-align: middle;\n    }\n\n    .dataframe tbody tr th {\n        vertical-align: top;\n    }\n\n    .dataframe thead th {\n        text-align: right;\n    }\n</style>\n<table border=\"1\" class=\"dataframe\">\n  <thead>\n    <tr style=\"text-align: right;\">\n      <th></th>\n      <th>Open</th>\n      <th>High</th>\n      <th>Low</th>\n      <th>Close</th>\n      <th>Volume</th>\n      <th>Change</th>\n    </tr>\n    <tr>\n      <th>Date</th>\n      <th></th>\n      <th></th>\n      <th></th>\n      <th></th>\n      <th></th>\n      <th></th>\n    </tr>\n  </thead>\n  <tbody>\n    <tr>\n      <th>2021-01-04</th>\n      <td>291500</td>\n      <td>294000</td>\n      <td>285500</td>\n      <td>293000</td>\n      <td>947178</td>\n      <td>0.001709</td>\n    </tr>\n    <tr>\n      <th>2021-01-05</th>\n      <td>291500</td>\n      <td>292500</td>\n      <td>286500</td>\n      <td>292500</td>\n      <td>912657</td>\n      <td>-0.001706</td>\n    </tr>\n    <tr>\n      <th>2021-01-06</th>\n      <td>292500</td>\n      <td>300500</td>\n      <td>289500</td>\n      <td>290000</td>\n      <td>1375856</td>\n      <td>-0.008547</td>\n    </tr>\n    <tr>\n      <th>2021-01-07</th>\n      <td>288500</td>\n      <td>292000</td>\n      <td>286500</td>\n      <td>289500</td>\n      <td>1155734</td>\n      <td>-0.001724</td>\n    </tr>\n    <tr>\n      <th>2021-01-08</th>\n      <td>293500</td>\n      <td>312000</td>\n      <td>290000</td>\n      <td>312000</td>\n      <td>3175396</td>\n      <td>0.077720</td>\n    </tr>\n    <tr>\n      <th>...</th>\n      <td>...</td>\n      <td>...</td>\n      <td>...</td>\n      <td>...</td>\n      <td>...</td>\n      <td>...</td>\n    </tr>\n    <tr>\n      <th>2022-07-11</th>\n      <td>246000</td>\n      <td>248000</td>\n      <td>238500</td>\n      <td>240500</td>\n      <td>554603</td>\n      <td>-0.034137</td>\n    </tr>\n    <tr>\n      <th>2022-07-12</th>\n      <td>236500</td>\n      <td>237500</td>\n      <td>230500</td>\n      <td>233500</td>\n      <td>601679</td>\n      <td>-0.029106</td>\n    </tr>\n    <tr>\n      <th>2022-07-13</th>\n      <td>232000</td>\n      <td>239000</td>\n      <td>232000</td>\n      <td>237500</td>\n      <td>451619</td>\n      <td>0.017131</td>\n    </tr>\n    <tr>\n      <th>2022-07-14</th>\n      <td>232000</td>\n      <td>236000</td>\n      <td>231000</td>\n      <td>233500</td>\n      <td>611226</td>\n      <td>-0.016842</td>\n    </tr>\n    <tr>\n      <th>2022-07-15</th>\n      <td>234500</td>\n      <td>234500</td>\n      <td>228000</td>\n      <td>231000</td>\n      <td>812766</td>\n      <td>-0.010707</td>\n    </tr>\n  </tbody>\n</table>\n<p>380 rows × 6 columns</p>\n</div>"
     },
     "execution_count": 48,
     "metadata": {},
     "output_type": "execute_result"
    }
   ],
   "source": [
    "import FinanceDataReader as fdr\n",
    "\n",
    "df = fdr.DataReader(\"035420\", start = '2021')\n",
    "df"
   ]
  },
  {
   "cell_type": "code",
   "execution_count": 49,
   "metadata": {
    "ExecuteTime": {
     "end_time": "2021-12-13T14:36:32.499307Z",
     "start_time": "2021-12-13T14:36:32.480205Z"
    },
    "pycharm": {
     "name": "#%%\n"
    }
   },
   "outputs": [
    {
     "name": "stdout",
     "output_type": "stream",
     "text": [
      "최고: {max_close_value}\n",
      "최저: {min_close_value}\n",
      "MDD: {round(mdd*100,2)}\n",
      "MAX Draw Down: 2021-09-06 ~ 2022-07-15\n",
      "312 days\n",
      "max period : 312\n"
     ]
    }
   ],
   "source": [
    "df_mdd, stock_info = mdd_fn(df)"
   ]
  },
  {
   "cell_type": "code",
   "execution_count": 50,
   "metadata": {
    "ExecuteTime": {
     "end_time": "2021-12-13T14:34:52.746854Z",
     "start_time": "2021-12-13T14:34:52.737304Z"
    },
    "pycharm": {
     "name": "#%%\n"
    }
   },
   "outputs": [
    {
     "data": {
      "text/plain": "             Close    Return  CumReturn  MaxCumReturn  DrawDown\nDate                                                           \n2021-01-04  293000  0.000000   1.000000      1.000000  0.000000\n2021-01-05  292500 -0.001706   0.998294      1.000000 -0.001706\n2021-01-06  290000 -0.008547   0.989761      1.000000 -0.010239\n2021-01-07  289500 -0.001724   0.988055      1.000000 -0.011945\n2021-01-08  312000  0.077720   1.064846      1.064846  0.000000\n...            ...       ...        ...           ...       ...\n2022-07-11  240500 -0.034137   0.820819      1.549488 -0.470264\n2022-07-12  233500 -0.029106   0.796928      1.549488 -0.485683\n2022-07-13  237500  0.017131   0.810580      1.549488 -0.476872\n2022-07-14  233500 -0.016842   0.796928      1.549488 -0.485683\n2022-07-15  231000 -0.010707   0.788396      1.549488 -0.491189\n\n[380 rows x 5 columns]",
      "text/html": "<div>\n<style scoped>\n    .dataframe tbody tr th:only-of-type {\n        vertical-align: middle;\n    }\n\n    .dataframe tbody tr th {\n        vertical-align: top;\n    }\n\n    .dataframe thead th {\n        text-align: right;\n    }\n</style>\n<table border=\"1\" class=\"dataframe\">\n  <thead>\n    <tr style=\"text-align: right;\">\n      <th></th>\n      <th>Close</th>\n      <th>Return</th>\n      <th>CumReturn</th>\n      <th>MaxCumReturn</th>\n      <th>DrawDown</th>\n    </tr>\n    <tr>\n      <th>Date</th>\n      <th></th>\n      <th></th>\n      <th></th>\n      <th></th>\n      <th></th>\n    </tr>\n  </thead>\n  <tbody>\n    <tr>\n      <th>2021-01-04</th>\n      <td>293000</td>\n      <td>0.000000</td>\n      <td>1.000000</td>\n      <td>1.000000</td>\n      <td>0.000000</td>\n    </tr>\n    <tr>\n      <th>2021-01-05</th>\n      <td>292500</td>\n      <td>-0.001706</td>\n      <td>0.998294</td>\n      <td>1.000000</td>\n      <td>-0.001706</td>\n    </tr>\n    <tr>\n      <th>2021-01-06</th>\n      <td>290000</td>\n      <td>-0.008547</td>\n      <td>0.989761</td>\n      <td>1.000000</td>\n      <td>-0.010239</td>\n    </tr>\n    <tr>\n      <th>2021-01-07</th>\n      <td>289500</td>\n      <td>-0.001724</td>\n      <td>0.988055</td>\n      <td>1.000000</td>\n      <td>-0.011945</td>\n    </tr>\n    <tr>\n      <th>2021-01-08</th>\n      <td>312000</td>\n      <td>0.077720</td>\n      <td>1.064846</td>\n      <td>1.064846</td>\n      <td>0.000000</td>\n    </tr>\n    <tr>\n      <th>...</th>\n      <td>...</td>\n      <td>...</td>\n      <td>...</td>\n      <td>...</td>\n      <td>...</td>\n    </tr>\n    <tr>\n      <th>2022-07-11</th>\n      <td>240500</td>\n      <td>-0.034137</td>\n      <td>0.820819</td>\n      <td>1.549488</td>\n      <td>-0.470264</td>\n    </tr>\n    <tr>\n      <th>2022-07-12</th>\n      <td>233500</td>\n      <td>-0.029106</td>\n      <td>0.796928</td>\n      <td>1.549488</td>\n      <td>-0.485683</td>\n    </tr>\n    <tr>\n      <th>2022-07-13</th>\n      <td>237500</td>\n      <td>0.017131</td>\n      <td>0.810580</td>\n      <td>1.549488</td>\n      <td>-0.476872</td>\n    </tr>\n    <tr>\n      <th>2022-07-14</th>\n      <td>233500</td>\n      <td>-0.016842</td>\n      <td>0.796928</td>\n      <td>1.549488</td>\n      <td>-0.485683</td>\n    </tr>\n    <tr>\n      <th>2022-07-15</th>\n      <td>231000</td>\n      <td>-0.010707</td>\n      <td>0.788396</td>\n      <td>1.549488</td>\n      <td>-0.491189</td>\n    </tr>\n  </tbody>\n</table>\n<p>380 rows × 5 columns</p>\n</div>"
     },
     "execution_count": 50,
     "metadata": {},
     "output_type": "execute_result"
    }
   ],
   "source": [
    "df_mdd"
   ]
  },
  {
   "cell_type": "code",
   "execution_count": 51,
   "metadata": {
    "ExecuteTime": {
     "end_time": "2021-12-13T14:35:10.549540Z",
     "start_time": "2021-12-13T14:35:10.537239Z"
    },
    "pycharm": {
     "name": "#%%\n"
    }
   },
   "outputs": [
    {
     "data": {
      "text/plain": "[454000,\n 229000,\n -49.56,\n datetime.date(2021, 9, 6),\n datetime.date(2022, 7, 15),\n 312]"
     },
     "execution_count": 51,
     "metadata": {},
     "output_type": "execute_result"
    }
   ],
   "source": [
    "stock_info"
   ]
  },
  {
   "cell_type": "code",
   "execution_count": null,
   "metadata": {
    "pycharm": {
     "name": "#%%\n"
    }
   },
   "outputs": [],
   "source": []
  }
 ],
 "metadata": {
  "hide_input": false,
  "kernelspec": {
   "display_name": "Python 3",
   "language": "python",
   "name": "python3"
  },
  "language_info": {
   "codemirror_mode": {
    "name": "ipython",
    "version": 3
   },
   "file_extension": ".py",
   "mimetype": "text/x-python",
   "name": "python",
   "nbconvert_exporter": "python",
   "pygments_lexer": "ipython3",
   "version": "3.8.5"
  },
  "toc": {
   "base_numbering": 1,
   "nav_menu": {},
   "number_sections": true,
   "sideBar": true,
   "skip_h1_title": false,
   "title_cell": "Table of Contents",
   "title_sidebar": "Contents",
   "toc_cell": false,
   "toc_position": {
    "height": "calc(100% - 180px)",
    "left": "10px",
    "top": "150px",
    "width": "251.889px"
   },
   "toc_section_display": true,
   "toc_window_display": true
  },
  "varInspector": {
   "cols": {
    "lenName": 16,
    "lenType": 16,
    "lenVar": 40
   },
   "kernels_config": {
    "python": {
     "delete_cmd_postfix": "",
     "delete_cmd_prefix": "del ",
     "library": "var_list.py",
     "varRefreshCmd": "print(var_dic_list())"
    },
    "r": {
     "delete_cmd_postfix": ") ",
     "delete_cmd_prefix": "rm(",
     "library": "var_list.r",
     "varRefreshCmd": "cat(var_dic_list()) "
    }
   },
   "types_to_exclude": [
    "module",
    "function",
    "builtin_function_or_method",
    "instance",
    "_Feature"
   ],
   "window_display": false
  }
 },
 "nbformat": 4,
 "nbformat_minor": 4
}