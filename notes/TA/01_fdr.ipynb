{
 "cells": [
  {
   "cell_type": "code",
   "execution_count": 12,
   "metadata": {
    "ExecuteTime": {
     "end_time": "2022-01-09T13:12:34.543016Z",
     "start_time": "2022-01-09T13:12:34.511852Z"
    },
    "pycharm": {
     "name": "#%%\n"
    }
   },
   "outputs": [],
   "source": [
    "import FinanceDataReader as fdr"
   ]
  },
  {
   "cell_type": "code",
   "execution_count": 15,
   "metadata": {
    "ExecuteTime": {
     "end_time": "2022-01-09T13:12:35.895732Z",
     "start_time": "2022-01-09T13:12:35.574173Z"
    },
    "pycharm": {
     "name": "#%%\n"
    }
   },
   "outputs": [
    {
     "data": {
      "text/plain": "(6000, 6)"
     },
     "execution_count": 15,
     "metadata": {},
     "output_type": "execute_result"
    }
   ],
   "source": [
    "# 삼성전자 종목코드 : 005930\n",
    "df1 = fdr.DataReader(\"005930\")\n",
    "df1.shape"
   ]
  },
  {
   "cell_type": "code",
   "execution_count": 16,
   "outputs": [
    {
     "data": {
      "text/plain": "(775, 6)"
     },
     "execution_count": 16,
     "metadata": {},
     "output_type": "execute_result"
    }
   ],
   "source": [
    "# SK하이닉스 종목코드 : 000660\n",
    "df2 = fdr.DataReader(\"000660\", start = '2018-04-05', end = '2021-05-31')\n",
    "df2.shape"
   ],
   "metadata": {
    "collapsed": false,
    "pycharm": {
     "name": "#%%\n"
    }
   }
  },
  {
   "cell_type": "markdown",
   "metadata": {
    "pycharm": {
     "name": "#%% md\n"
    }
   },
   "source": [
    "## 한국 거래소 상장 종목 정보 불러오기"
   ]
  },
  {
   "cell_type": "code",
   "execution_count": 17,
   "metadata": {
    "ExecuteTime": {
     "end_time": "2021-11-28T06:39:56.800626Z",
     "start_time": "2021-11-28T06:39:51.342586Z"
    },
    "pycharm": {
     "name": "#%%\n"
    }
   },
   "outputs": [
    {
     "data": {
      "text/plain": "(7561, 10)"
     },
     "execution_count": 17,
     "metadata": {},
     "output_type": "execute_result"
    }
   ],
   "source": [
    "stock_info = fdr.StockListing(\"KRX\")\n",
    "stock_info.shape"
   ]
  },
  {
   "cell_type": "code",
   "execution_count": 20,
   "outputs": [
    {
     "data": {
      "text/plain": "   Symbol  Market    Name           Sector             Industry ListingDate  \\\n0  060310  KOSDAQ      3S         전자부품 제조업          반도체 웨이퍼 캐리어  2002-04-23   \n1  095570   KOSPI  AJ네트웍스  산업용 기계 및 장비 임대업  렌탈(파렛트, OA장비, 건설장비)  2015-08-21   \n2  006840   KOSPI   AK홀딩스           기타 금융업                 지주사업  1999-08-11   \n3  054620  KOSDAQ  APS홀딩스           기타 금융업          인터넷 트래픽 솔루션  2001-12-04   \n4  265520  KOSDAQ   AP시스템    특수 목적용 기계 제조업          디스플레이 제조 장비  2017-04-07   \n\n  SettleMonth     Representative                       HomePage Region  \n0         03월                김세완           http://www.3sref.com  서울특별시  \n1         12월           박대현, 손삼달         http://www.ajnet.co.kr  서울특별시  \n2         12월  채형석, 이석주(각자 대표이사)  http://www.aekyunggroup.co.kr  서울특별시  \n3         12월                정기로   http://www.apsholdings.co.kr    경기도  \n4         12월                김영주     http://www.apsystems.co.kr    경기도  ",
      "text/html": "<div>\n<style scoped>\n    .dataframe tbody tr th:only-of-type {\n        vertical-align: middle;\n    }\n\n    .dataframe tbody tr th {\n        vertical-align: top;\n    }\n\n    .dataframe thead th {\n        text-align: right;\n    }\n</style>\n<table border=\"1\" class=\"dataframe\">\n  <thead>\n    <tr style=\"text-align: right;\">\n      <th></th>\n      <th>Symbol</th>\n      <th>Market</th>\n      <th>Name</th>\n      <th>Sector</th>\n      <th>Industry</th>\n      <th>ListingDate</th>\n      <th>SettleMonth</th>\n      <th>Representative</th>\n      <th>HomePage</th>\n      <th>Region</th>\n    </tr>\n  </thead>\n  <tbody>\n    <tr>\n      <th>0</th>\n      <td>060310</td>\n      <td>KOSDAQ</td>\n      <td>3S</td>\n      <td>전자부품 제조업</td>\n      <td>반도체 웨이퍼 캐리어</td>\n      <td>2002-04-23</td>\n      <td>03월</td>\n      <td>김세완</td>\n      <td>http://www.3sref.com</td>\n      <td>서울특별시</td>\n    </tr>\n    <tr>\n      <th>1</th>\n      <td>095570</td>\n      <td>KOSPI</td>\n      <td>AJ네트웍스</td>\n      <td>산업용 기계 및 장비 임대업</td>\n      <td>렌탈(파렛트, OA장비, 건설장비)</td>\n      <td>2015-08-21</td>\n      <td>12월</td>\n      <td>박대현, 손삼달</td>\n      <td>http://www.ajnet.co.kr</td>\n      <td>서울특별시</td>\n    </tr>\n    <tr>\n      <th>2</th>\n      <td>006840</td>\n      <td>KOSPI</td>\n      <td>AK홀딩스</td>\n      <td>기타 금융업</td>\n      <td>지주사업</td>\n      <td>1999-08-11</td>\n      <td>12월</td>\n      <td>채형석, 이석주(각자 대표이사)</td>\n      <td>http://www.aekyunggroup.co.kr</td>\n      <td>서울특별시</td>\n    </tr>\n    <tr>\n      <th>3</th>\n      <td>054620</td>\n      <td>KOSDAQ</td>\n      <td>APS홀딩스</td>\n      <td>기타 금융업</td>\n      <td>인터넷 트래픽 솔루션</td>\n      <td>2001-12-04</td>\n      <td>12월</td>\n      <td>정기로</td>\n      <td>http://www.apsholdings.co.kr</td>\n      <td>경기도</td>\n    </tr>\n    <tr>\n      <th>4</th>\n      <td>265520</td>\n      <td>KOSDAQ</td>\n      <td>AP시스템</td>\n      <td>특수 목적용 기계 제조업</td>\n      <td>디스플레이 제조 장비</td>\n      <td>2017-04-07</td>\n      <td>12월</td>\n      <td>김영주</td>\n      <td>http://www.apsystems.co.kr</td>\n      <td>경기도</td>\n    </tr>\n  </tbody>\n</table>\n</div>"
     },
     "execution_count": 20,
     "metadata": {},
     "output_type": "execute_result"
    }
   ],
   "source": [
    "stock_info.head()"
   ],
   "metadata": {
    "collapsed": false,
    "pycharm": {
     "name": "#%%\n"
    }
   }
  },
  {
   "cell_type": "code",
   "execution_count": 38,
   "metadata": {
    "ExecuteTime": {
     "end_time": "2022-01-10T12:49:26.798255Z",
     "start_time": "2022-01-10T12:49:22.189142Z"
    },
    "pycharm": {
     "name": "#%%\n"
    }
   },
   "outputs": [],
   "source": [
    "def stock_listing():\n",
    "    import requests\n",
    "    import json\n",
    "    try:\n",
    "        from pandas import json_normalize\n",
    "    except ImportError:\n",
    "        from pandas.io.json import json_normalize\n",
    "\n",
    "    data = {'bld': 'dbms/comm/finder/finder_stkisu', 'locale': 'ko_KR', }\n",
    "\n",
    "    r = requests.post('http://data.krx.co.kr/comm/bldAttendant/getJsonData.cmd', data=data)\n",
    "    jo = json.loads(r.text)\n",
    "    df = json_normalize(jo, 'block1')\n",
    "    df_info = df[['short_code', 'codeName']]\n",
    "    df_info.columns = ['Symbol', 'Name']\n",
    "    return df_info"
   ]
  },
  {
   "cell_type": "code",
   "execution_count": 41,
   "metadata": {
    "ExecuteTime": {
     "end_time": "2022-01-10T12:49:29.031151Z",
     "start_time": "2022-01-10T12:49:29.021151Z"
    },
    "pycharm": {
     "name": "#%%\n"
    }
   },
   "outputs": [
    {
     "data": {
      "text/plain": "      Symbol             Name\n0     060310               3S\n1     095570           AJ네트웍스\n2     006840            AK홀딩스\n3     054620           APS홀딩스\n4     265520            AP시스템\n...      ...              ...\n7556  435540  히어로즈 TDF2040액티브\n7557  435550  히어로즈 TDF2050액티브\n7558  419890  히어로즈 단기채권ESG액티브\n7559  429870    히어로즈 리츠이지스액티브\n7560  238490               힘스\n\n[7561 rows x 2 columns]",
      "text/html": "<div>\n<style scoped>\n    .dataframe tbody tr th:only-of-type {\n        vertical-align: middle;\n    }\n\n    .dataframe tbody tr th {\n        vertical-align: top;\n    }\n\n    .dataframe thead th {\n        text-align: right;\n    }\n</style>\n<table border=\"1\" class=\"dataframe\">\n  <thead>\n    <tr style=\"text-align: right;\">\n      <th></th>\n      <th>Symbol</th>\n      <th>Name</th>\n    </tr>\n  </thead>\n  <tbody>\n    <tr>\n      <th>0</th>\n      <td>060310</td>\n      <td>3S</td>\n    </tr>\n    <tr>\n      <th>1</th>\n      <td>095570</td>\n      <td>AJ네트웍스</td>\n    </tr>\n    <tr>\n      <th>2</th>\n      <td>006840</td>\n      <td>AK홀딩스</td>\n    </tr>\n    <tr>\n      <th>3</th>\n      <td>054620</td>\n      <td>APS홀딩스</td>\n    </tr>\n    <tr>\n      <th>4</th>\n      <td>265520</td>\n      <td>AP시스템</td>\n    </tr>\n    <tr>\n      <th>...</th>\n      <td>...</td>\n      <td>...</td>\n    </tr>\n    <tr>\n      <th>7556</th>\n      <td>435540</td>\n      <td>히어로즈 TDF2040액티브</td>\n    </tr>\n    <tr>\n      <th>7557</th>\n      <td>435550</td>\n      <td>히어로즈 TDF2050액티브</td>\n    </tr>\n    <tr>\n      <th>7558</th>\n      <td>419890</td>\n      <td>히어로즈 단기채권ESG액티브</td>\n    </tr>\n    <tr>\n      <th>7559</th>\n      <td>429870</td>\n      <td>히어로즈 리츠이지스액티브</td>\n    </tr>\n    <tr>\n      <th>7560</th>\n      <td>238490</td>\n      <td>힘스</td>\n    </tr>\n  </tbody>\n</table>\n<p>7561 rows × 2 columns</p>\n</div>"
     },
     "execution_count": 41,
     "metadata": {},
     "output_type": "execute_result"
    }
   ],
   "source": [
    "stock_info = stock_listing()\n",
    "stock_info"
   ]
  },
  {
   "cell_type": "markdown",
   "metadata": {
    "pycharm": {
     "name": "#%% md\n"
    }
   },
   "source": [
    "# 종목에 해당하는 종목코드 찾기"
   ]
  },
  {
   "cell_type": "code",
   "execution_count": 42,
   "metadata": {
    "ExecuteTime": {
     "end_time": "2022-01-10T12:56:06.895737Z",
     "start_time": "2022-01-10T12:56:06.885716Z"
    },
    "pycharm": {
     "name": "#%%\n"
    }
   },
   "outputs": [],
   "source": [
    "# cf. '바나나'에 해당되는 정보찾기\n",
    "import pandas as pd\n",
    "\n",
    "fruits = ['사과', '바나나', '딸기', '복숭아', '수박', '참외', '포도']\n",
    "price = [1000, 2000, 3000, 4000, 5000, 6000, 7000]\n",
    "market = ['A마트', 'B마트', 'C마트', 'D마트', 'E마트', 'F마트', 'G마트']\n",
    "df = pd.DataFrame({\"과일\":fruits, \"가격\":price, \"파는곳\":market})\n",
    "df.index = range(1,8)\n",
    "\n",
    "# condition = df['과일'] == '바나나'\n",
    "# df[condition]['가격'].values[0]"
   ]
  },
  {
   "cell_type": "code",
   "execution_count": 43,
   "metadata": {
    "ExecuteTime": {
     "end_time": "2022-01-10T13:01:08.926569Z",
     "start_time": "2022-01-10T13:01:08.908386Z"
    },
    "pycharm": {
     "name": "#%%\n"
    }
   },
   "outputs": [
    {
     "data": {
      "text/plain": "'095570'"
     },
     "execution_count": 43,
     "metadata": {},
     "output_type": "execute_result"
    }
   ],
   "source": [
    "stock_name = \"AJ네트웍스\"\n",
    "stock_info[stock_info['Name'] == stock_name]['Symbol'].values[0]"
   ]
  },
  {
   "cell_type": "code",
   "execution_count": 44,
   "metadata": {
    "ExecuteTime": {
     "end_time": "2022-01-10T13:04:57.403537Z",
     "start_time": "2022-01-10T13:04:57.222114Z"
    },
    "pycharm": {
     "name": "#%%\n"
    }
   },
   "outputs": [
    {
     "data": {
      "text/plain": "              Open    High     Low   Close   Volume    Change\nDate                                                         \n2021-01-04  124500  128000  120500  126000  7995016  0.063291\n2021-01-05  124500  132500  124000  130500  7180224  0.035714\n2021-01-06  132500  137000  130000  131000  8525749  0.003831\n2021-01-07  132500  137500  131500  134500  5981299  0.026718\n2021-01-08  136000  138000  132500  138000  8713010  0.026022",
      "text/html": "<div>\n<style scoped>\n    .dataframe tbody tr th:only-of-type {\n        vertical-align: middle;\n    }\n\n    .dataframe tbody tr th {\n        vertical-align: top;\n    }\n\n    .dataframe thead th {\n        text-align: right;\n    }\n</style>\n<table border=\"1\" class=\"dataframe\">\n  <thead>\n    <tr style=\"text-align: right;\">\n      <th></th>\n      <th>Open</th>\n      <th>High</th>\n      <th>Low</th>\n      <th>Close</th>\n      <th>Volume</th>\n      <th>Change</th>\n    </tr>\n    <tr>\n      <th>Date</th>\n      <th></th>\n      <th></th>\n      <th></th>\n      <th></th>\n      <th></th>\n      <th></th>\n    </tr>\n  </thead>\n  <tbody>\n    <tr>\n      <th>2021-01-04</th>\n      <td>124500</td>\n      <td>128000</td>\n      <td>120500</td>\n      <td>126000</td>\n      <td>7995016</td>\n      <td>0.063291</td>\n    </tr>\n    <tr>\n      <th>2021-01-05</th>\n      <td>124500</td>\n      <td>132500</td>\n      <td>124000</td>\n      <td>130500</td>\n      <td>7180224</td>\n      <td>0.035714</td>\n    </tr>\n    <tr>\n      <th>2021-01-06</th>\n      <td>132500</td>\n      <td>137000</td>\n      <td>130000</td>\n      <td>131000</td>\n      <td>8525749</td>\n      <td>0.003831</td>\n    </tr>\n    <tr>\n      <th>2021-01-07</th>\n      <td>132500</td>\n      <td>137500</td>\n      <td>131500</td>\n      <td>134500</td>\n      <td>5981299</td>\n      <td>0.026718</td>\n    </tr>\n    <tr>\n      <th>2021-01-08</th>\n      <td>136000</td>\n      <td>138000</td>\n      <td>132500</td>\n      <td>138000</td>\n      <td>8713010</td>\n      <td>0.026022</td>\n    </tr>\n  </tbody>\n</table>\n</div>"
     },
     "execution_count": 44,
     "metadata": {},
     "output_type": "execute_result"
    }
   ],
   "source": [
    "stock_name = \"SK하이닉스\"\n",
    "if stock_name in stock_info['Name'].values:\n",
    "    stock_symbol = stock_info[stock_info['Name']== stock_name]['Symbol'].values[0]\n",
    "else:\n",
    "    print(\"There is no name in KRX\")\n",
    "df = fdr.DataReader(stock_symbol, start = '2021')\n",
    "df.head()"
   ]
  },
  {
   "cell_type": "markdown",
   "metadata": {
    "pycharm": {
     "name": "#%% md\n"
    }
   },
   "source": [
    "# StockListing()를 저장하고 불러올 수 있는 코드를 작성"
   ]
  },
  {
   "cell_type": "code",
   "execution_count": 45,
   "metadata": {
    "ExecuteTime": {
     "end_time": "2022-01-10T13:27:44.026398Z",
     "start_time": "2022-01-10T13:27:44.010991Z"
    },
    "pycharm": {
     "name": "#%%\n"
    }
   },
   "outputs": [
    {
     "name": "stdout",
     "output_type": "stream",
     "text": [
      "2022 7 17\n"
     ]
    }
   ],
   "source": [
    "# cf. 날짜를 다뤄보자.\n",
    "import datetime\n",
    "today_year = datetime.datetime.today().year\n",
    "today_month = datetime.datetime.today().month\n",
    "today_day = datetime.datetime.today().day\n",
    "print(today_year, today_month, today_day)"
   ]
  },
  {
   "cell_type": "code",
   "execution_count": 46,
   "metadata": {
    "ExecuteTime": {
     "end_time": "2022-01-10T13:28:17.880741Z",
     "start_time": "2022-01-10T13:28:13.707330Z"
    },
    "pycharm": {
     "name": "#%%\n"
    }
   },
   "outputs": [
    {
     "data": {
      "text/plain": "      Symbol             Name\n0     060310               3S\n1     095570           AJ네트웍스\n2     006840            AK홀딩스\n3     054620           APS홀딩스\n4     265520            AP시스템\n...      ...              ...\n7556  435540  히어로즈 TDF2040액티브\n7557  435550  히어로즈 TDF2050액티브\n7558  419890  히어로즈 단기채권ESG액티브\n7559  429870    히어로즈 리츠이지스액티브\n7560  238490               힘스\n\n[7561 rows x 2 columns]",
      "text/html": "<div>\n<style scoped>\n    .dataframe tbody tr th:only-of-type {\n        vertical-align: middle;\n    }\n\n    .dataframe tbody tr th {\n        vertical-align: top;\n    }\n\n    .dataframe thead th {\n        text-align: right;\n    }\n</style>\n<table border=\"1\" class=\"dataframe\">\n  <thead>\n    <tr style=\"text-align: right;\">\n      <th></th>\n      <th>Symbol</th>\n      <th>Name</th>\n    </tr>\n  </thead>\n  <tbody>\n    <tr>\n      <th>0</th>\n      <td>060310</td>\n      <td>3S</td>\n    </tr>\n    <tr>\n      <th>1</th>\n      <td>095570</td>\n      <td>AJ네트웍스</td>\n    </tr>\n    <tr>\n      <th>2</th>\n      <td>006840</td>\n      <td>AK홀딩스</td>\n    </tr>\n    <tr>\n      <th>3</th>\n      <td>054620</td>\n      <td>APS홀딩스</td>\n    </tr>\n    <tr>\n      <th>4</th>\n      <td>265520</td>\n      <td>AP시스템</td>\n    </tr>\n    <tr>\n      <th>...</th>\n      <td>...</td>\n      <td>...</td>\n    </tr>\n    <tr>\n      <th>7556</th>\n      <td>435540</td>\n      <td>히어로즈 TDF2040액티브</td>\n    </tr>\n    <tr>\n      <th>7557</th>\n      <td>435550</td>\n      <td>히어로즈 TDF2050액티브</td>\n    </tr>\n    <tr>\n      <th>7558</th>\n      <td>419890</td>\n      <td>히어로즈 단기채권ESG액티브</td>\n    </tr>\n    <tr>\n      <th>7559</th>\n      <td>429870</td>\n      <td>히어로즈 리츠이지스액티브</td>\n    </tr>\n    <tr>\n      <th>7560</th>\n      <td>238490</td>\n      <td>힘스</td>\n    </tr>\n  </tbody>\n</table>\n<p>7561 rows × 2 columns</p>\n</div>"
     },
     "execution_count": 46,
     "metadata": {},
     "output_type": "execute_result"
    }
   ],
   "source": [
    "krx_df = stock_listing()\n",
    "krx_df"
   ]
  },
  {
   "cell_type": "code",
   "execution_count": 47,
   "metadata": {
    "ExecuteTime": {
     "end_time": "2022-01-10T13:29:45.709458Z",
     "start_time": "2022-01-10T13:29:45.692581Z"
    },
    "pycharm": {
     "name": "#%%\n"
    }
   },
   "outputs": [],
   "source": [
    "krx_df.to_csv(f\"krx_df_{today_year}_{today_month}_{today_day}.csv\")"
   ]
  },
  {
   "cell_type": "code",
   "execution_count": 48,
   "metadata": {
    "ExecuteTime": {
     "end_time": "2022-01-10T13:30:18.647525Z",
     "start_time": "2022-01-10T13:30:18.642443Z"
    },
    "pycharm": {
     "name": "#%%\n"
    }
   },
   "outputs": [
    {
     "data": {
      "text/plain": "True"
     },
     "execution_count": 48,
     "metadata": {},
     "output_type": "execute_result"
    }
   ],
   "source": [
    "import os\n",
    "os.path.isfile(f\"krx_df_{today_year}_{today_month}_{today_day}.csv\")"
   ]
  },
  {
   "cell_type": "code",
   "execution_count": 51,
   "metadata": {
    "ExecuteTime": {
     "end_time": "2022-01-10T13:32:13.951385Z",
     "start_time": "2022-01-10T13:32:13.925380Z"
    },
    "pycharm": {
     "name": "#%%\n"
    }
   },
   "outputs": [],
   "source": [
    "if os.path.isfile(f\"krx_df_{today_year}_{today_month}_{today_day}.csv\"):\n",
    "    krx_df = pd.read_csv(f\"krx_df_{today_year}_{today_month}_{today_day}.csv\", index_col = 0)\n",
    "else:\n",
    "    krx_df = stock_listing()\n",
    "    krx_df.to_csv(f\"krx_df_{today_year}_{today_month}_{today_day}.csv\")"
   ]
  },
  {
   "cell_type": "code",
   "execution_count": 52,
   "metadata": {
    "ExecuteTime": {
     "end_time": "2022-01-10T13:32:17.752458Z",
     "start_time": "2022-01-10T13:32:17.738459Z"
    },
    "pycharm": {
     "name": "#%%\n"
    }
   },
   "outputs": [
    {
     "data": {
      "text/plain": "      Symbol             Name\n0     060310               3S\n1     095570           AJ네트웍스\n2     006840            AK홀딩스\n3     054620           APS홀딩스\n4     265520            AP시스템\n...      ...              ...\n7556  435540  히어로즈 TDF2040액티브\n7557  435550  히어로즈 TDF2050액티브\n7558  419890  히어로즈 단기채권ESG액티브\n7559  429870    히어로즈 리츠이지스액티브\n7560  238490               힘스\n\n[7561 rows x 2 columns]",
      "text/html": "<div>\n<style scoped>\n    .dataframe tbody tr th:only-of-type {\n        vertical-align: middle;\n    }\n\n    .dataframe tbody tr th {\n        vertical-align: top;\n    }\n\n    .dataframe thead th {\n        text-align: right;\n    }\n</style>\n<table border=\"1\" class=\"dataframe\">\n  <thead>\n    <tr style=\"text-align: right;\">\n      <th></th>\n      <th>Symbol</th>\n      <th>Name</th>\n    </tr>\n  </thead>\n  <tbody>\n    <tr>\n      <th>0</th>\n      <td>060310</td>\n      <td>3S</td>\n    </tr>\n    <tr>\n      <th>1</th>\n      <td>095570</td>\n      <td>AJ네트웍스</td>\n    </tr>\n    <tr>\n      <th>2</th>\n      <td>006840</td>\n      <td>AK홀딩스</td>\n    </tr>\n    <tr>\n      <th>3</th>\n      <td>054620</td>\n      <td>APS홀딩스</td>\n    </tr>\n    <tr>\n      <th>4</th>\n      <td>265520</td>\n      <td>AP시스템</td>\n    </tr>\n    <tr>\n      <th>...</th>\n      <td>...</td>\n      <td>...</td>\n    </tr>\n    <tr>\n      <th>7556</th>\n      <td>435540</td>\n      <td>히어로즈 TDF2040액티브</td>\n    </tr>\n    <tr>\n      <th>7557</th>\n      <td>435550</td>\n      <td>히어로즈 TDF2050액티브</td>\n    </tr>\n    <tr>\n      <th>7558</th>\n      <td>419890</td>\n      <td>히어로즈 단기채권ESG액티브</td>\n    </tr>\n    <tr>\n      <th>7559</th>\n      <td>429870</td>\n      <td>히어로즈 리츠이지스액티브</td>\n    </tr>\n    <tr>\n      <th>7560</th>\n      <td>238490</td>\n      <td>힘스</td>\n    </tr>\n  </tbody>\n</table>\n<p>7561 rows × 2 columns</p>\n</div>"
     },
     "execution_count": 52,
     "metadata": {},
     "output_type": "execute_result"
    }
   ],
   "source": [
    "krx_df"
   ]
  },
  {
   "cell_type": "markdown",
   "metadata": {
    "pycharm": {
     "name": "#%% md\n"
    }
   },
   "source": [
    "# 함수 만들기_(stockDataReader_fn)"
   ]
  },
  {
   "cell_type": "code",
   "execution_count": 53,
   "metadata": {
    "ExecuteTime": {
     "end_time": "2022-01-13T12:11:17.744237Z",
     "start_time": "2022-01-13T12:11:17.727751Z"
    },
    "pycharm": {
     "name": "#%%\n"
    }
   },
   "outputs": [],
   "source": [
    "def stock_fdr_fn(stock_name, start_date = None, end_date =None):\n",
    "    import FinanceDataReader as fdr\n",
    "    import datetime\n",
    "    import os\n",
    "    import pandas as pd\n",
    "    \n",
    "    def stock_listing():\n",
    "    \n",
    "        import requests\n",
    "        import json\n",
    "\n",
    "        try:\n",
    "            from pandas import json_normalize\n",
    "        except ImportError:\n",
    "            from pandas.io.json import json_normalize\n",
    "\n",
    "        data = {'bld': 'dbms/comm/finder/finder_stkisu', 'locale': 'ko_KR', }\n",
    "\n",
    "        r = requests.post('http://data.krx.co.kr/comm/bldAttendant/getJsonData.cmd', data=data)\n",
    "        jo = json.loads(r.text)\n",
    "        df = json_normalize(jo, 'block1')\n",
    "        df_info = df[['short_code', 'codeName']]\n",
    "\n",
    "        df_info.columns = ['Symbol', 'Name']\n",
    "\n",
    "        return df_info\n",
    "    \n",
    "    #1. 저장 파일 형식에 필요한 Data 불러오기\n",
    "    today_year = datetime.datetime.today().year\n",
    "    today_month = datetime.datetime.today().month\n",
    "    today_day = datetime.datetime.today().day\n",
    "    \n",
    "    # 2. KRX 종목 DataFrame 존재 여부 확인\n",
    "    if os.path.isfile(f\"krx_df_{today_year}_{today_month}_{today_day}.csv\"):\n",
    "        krx_df = pd.read_csv(f\"krx_df_{today_year}_{today_month}_{today_day}.csv\", index_col = 0)\n",
    "    else:\n",
    "        krx_df = stock_listing()\n",
    "        krx_df.to_csv(f\"krx_df_{today_year}_{today_month}_{today_day}.csv\")\n",
    "    \n",
    "    # 3. 종목 코드 찾기\n",
    "    if stock_name in krx_df['Name'].values:\n",
    "        symbol = krx_df[krx_df['Name'] == stock_name]['Symbol'].values[0]\n",
    "    else:\n",
    "        raise \"Threr is no name in KRX\"\n",
    "    \n",
    "    stock_df = fdr.DataReader(symbol, start_date, end_date)\n",
    "    \n",
    "    return stock_df"
   ]
  },
  {
   "cell_type": "code",
   "execution_count": 55,
   "metadata": {
    "ExecuteTime": {
     "end_time": "2022-01-13T12:12:30.610941Z",
     "start_time": "2022-01-13T12:12:30.415928Z"
    },
    "pycharm": {
     "name": "#%%\n"
    }
   },
   "outputs": [
    {
     "data": {
      "text/plain": "             Open   High    Low  Close  Volume    Change\nDate                                                    \n2020-01-02  71800  72100  71000  71000  284758 -0.015257\n2020-01-03  71400  71900  70800  71100  369493  0.001408\n2020-01-06  70300  70500  69600  69900  337026 -0.016878\n2020-01-07  69800  70600  69800  70300  265311  0.005722\n2020-01-08  70300  70300  67000  67500  937438 -0.039829\n...           ...    ...    ...    ...     ...       ...\n2022-07-11  91500  92700  91000  91300  710884 -0.007609\n2022-07-12  90700  90900  89100  90400  654534 -0.009858\n2022-07-13  89900  92300  89900  91100  676772  0.007743\n2022-07-14  90600  91000  89500  90200  658582 -0.009879\n2022-07-15  90900  91500  89100  90900  598459  0.007761\n\n[628 rows x 6 columns]",
      "text/html": "<div>\n<style scoped>\n    .dataframe tbody tr th:only-of-type {\n        vertical-align: middle;\n    }\n\n    .dataframe tbody tr th {\n        vertical-align: top;\n    }\n\n    .dataframe thead th {\n        text-align: right;\n    }\n</style>\n<table border=\"1\" class=\"dataframe\">\n  <thead>\n    <tr style=\"text-align: right;\">\n      <th></th>\n      <th>Open</th>\n      <th>High</th>\n      <th>Low</th>\n      <th>Close</th>\n      <th>Volume</th>\n      <th>Change</th>\n    </tr>\n    <tr>\n      <th>Date</th>\n      <th></th>\n      <th></th>\n      <th></th>\n      <th></th>\n      <th></th>\n      <th></th>\n    </tr>\n  </thead>\n  <tbody>\n    <tr>\n      <th>2020-01-02</th>\n      <td>71800</td>\n      <td>72100</td>\n      <td>71000</td>\n      <td>71000</td>\n      <td>284758</td>\n      <td>-0.015257</td>\n    </tr>\n    <tr>\n      <th>2020-01-03</th>\n      <td>71400</td>\n      <td>71900</td>\n      <td>70800</td>\n      <td>71100</td>\n      <td>369493</td>\n      <td>0.001408</td>\n    </tr>\n    <tr>\n      <th>2020-01-06</th>\n      <td>70300</td>\n      <td>70500</td>\n      <td>69600</td>\n      <td>69900</td>\n      <td>337026</td>\n      <td>-0.016878</td>\n    </tr>\n    <tr>\n      <th>2020-01-07</th>\n      <td>69800</td>\n      <td>70600</td>\n      <td>69800</td>\n      <td>70300</td>\n      <td>265311</td>\n      <td>0.005722</td>\n    </tr>\n    <tr>\n      <th>2020-01-08</th>\n      <td>70300</td>\n      <td>70300</td>\n      <td>67000</td>\n      <td>67500</td>\n      <td>937438</td>\n      <td>-0.039829</td>\n    </tr>\n    <tr>\n      <th>...</th>\n      <td>...</td>\n      <td>...</td>\n      <td>...</td>\n      <td>...</td>\n      <td>...</td>\n      <td>...</td>\n    </tr>\n    <tr>\n      <th>2022-07-11</th>\n      <td>91500</td>\n      <td>92700</td>\n      <td>91000</td>\n      <td>91300</td>\n      <td>710884</td>\n      <td>-0.007609</td>\n    </tr>\n    <tr>\n      <th>2022-07-12</th>\n      <td>90700</td>\n      <td>90900</td>\n      <td>89100</td>\n      <td>90400</td>\n      <td>654534</td>\n      <td>-0.009858</td>\n    </tr>\n    <tr>\n      <th>2022-07-13</th>\n      <td>89900</td>\n      <td>92300</td>\n      <td>89900</td>\n      <td>91100</td>\n      <td>676772</td>\n      <td>0.007743</td>\n    </tr>\n    <tr>\n      <th>2022-07-14</th>\n      <td>90600</td>\n      <td>91000</td>\n      <td>89500</td>\n      <td>90200</td>\n      <td>658582</td>\n      <td>-0.009879</td>\n    </tr>\n    <tr>\n      <th>2022-07-15</th>\n      <td>90900</td>\n      <td>91500</td>\n      <td>89100</td>\n      <td>90900</td>\n      <td>598459</td>\n      <td>0.007761</td>\n    </tr>\n  </tbody>\n</table>\n<p>628 rows × 6 columns</p>\n</div>"
     },
     "execution_count": 55,
     "metadata": {},
     "output_type": "execute_result"
    }
   ],
   "source": [
    "stock_name = \"LG전자\"\n",
    "start_date = '2020'\n",
    "end_date = None\n",
    "df = stock_fdr_fn(stock_name = stock_name, start_date = start_date, end_date = end_date)\n",
    "df"
   ]
  }
 ],
 "metadata": {
  "hide_input": false,
  "kernelspec": {
   "display_name": "Python 3 (ipykernel)",
   "language": "python",
   "name": "python3"
  },
  "language_info": {
   "codemirror_mode": {
    "name": "ipython",
    "version": 3
   },
   "file_extension": ".py",
   "mimetype": "text/x-python",
   "name": "python",
   "nbconvert_exporter": "python",
   "pygments_lexer": "ipython3",
   "version": "3.9.7"
  },
  "toc": {
   "base_numbering": 1,
   "nav_menu": {},
   "number_sections": true,
   "sideBar": true,
   "skip_h1_title": false,
   "title_cell": "Table of Contents",
   "title_sidebar": "Contents",
   "toc_cell": false,
   "toc_position": {
    "height": "calc(100% - 180px)",
    "left": "10px",
    "top": "150px",
    "width": "377.6px"
   },
   "toc_section_display": true,
   "toc_window_display": true
  },
  "varInspector": {
   "cols": {
    "lenName": 16,
    "lenType": 16,
    "lenVar": 40
   },
   "kernels_config": {
    "python": {
     "delete_cmd_postfix": "",
     "delete_cmd_prefix": "del ",
     "library": "var_list.py",
     "varRefreshCmd": "print(var_dic_list())"
    },
    "r": {
     "delete_cmd_postfix": ") ",
     "delete_cmd_prefix": "rm(",
     "library": "var_list.r",
     "varRefreshCmd": "cat(var_dic_list()) "
    }
   },
   "types_to_exclude": [
    "module",
    "function",
    "builtin_function_or_method",
    "instance",
    "_Feature"
   ],
   "window_display": false
  }
 },
 "nbformat": 4,
 "nbformat_minor": 4
}