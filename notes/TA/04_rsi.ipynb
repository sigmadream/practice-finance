{
 "cells": [
  {
   "cell_type": "markdown",
   "metadata": {
    "pycharm": {
     "name": "#%% md\n"
    }
   },
   "source": [
    "# 조건 & 이동평균"
   ]
  },
  {
   "cell_type": "code",
   "execution_count": 1,
   "metadata": {
    "ExecuteTime": {
     "end_time": "2021-12-14T02:48:35.305181Z",
     "start_time": "2021-12-14T02:48:35.161846Z"
    },
    "pycharm": {
     "name": "#%%\n"
    }
   },
   "outputs": [
    {
     "data": {
      "text/plain": "             Close\nDate              \n2021-01-04  234000\n2021-01-05  235000\n2021-01-06  277000\n2021-01-07  290500\n2021-01-08  285000\n...            ...\n2022-07-11  126000\n2022-07-12  117500\n2022-07-13  122500\n2022-07-14  120500\n2022-07-15  120000\n\n[380 rows x 1 columns]",
      "text/html": "<div>\n<style scoped>\n    .dataframe tbody tr th:only-of-type {\n        vertical-align: middle;\n    }\n\n    .dataframe tbody tr th {\n        vertical-align: top;\n    }\n\n    .dataframe thead th {\n        text-align: right;\n    }\n</style>\n<table border=\"1\" class=\"dataframe\">\n  <thead>\n    <tr style=\"text-align: right;\">\n      <th></th>\n      <th>Close</th>\n    </tr>\n    <tr>\n      <th>Date</th>\n      <th></th>\n    </tr>\n  </thead>\n  <tbody>\n    <tr>\n      <th>2021-01-04</th>\n      <td>234000</td>\n    </tr>\n    <tr>\n      <th>2021-01-05</th>\n      <td>235000</td>\n    </tr>\n    <tr>\n      <th>2021-01-06</th>\n      <td>277000</td>\n    </tr>\n    <tr>\n      <th>2021-01-07</th>\n      <td>290500</td>\n    </tr>\n    <tr>\n      <th>2021-01-08</th>\n      <td>285000</td>\n    </tr>\n    <tr>\n      <th>...</th>\n      <td>...</td>\n    </tr>\n    <tr>\n      <th>2022-07-11</th>\n      <td>126000</td>\n    </tr>\n    <tr>\n      <th>2022-07-12</th>\n      <td>117500</td>\n    </tr>\n    <tr>\n      <th>2022-07-13</th>\n      <td>122500</td>\n    </tr>\n    <tr>\n      <th>2022-07-14</th>\n      <td>120500</td>\n    </tr>\n    <tr>\n      <th>2022-07-15</th>\n      <td>120000</td>\n    </tr>\n  </tbody>\n</table>\n<p>380 rows × 1 columns</p>\n</div>"
     },
     "execution_count": 1,
     "metadata": {},
     "output_type": "execute_result"
    }
   ],
   "source": [
    "import FinanceDataReader as fdr\n",
    "import numpy as np\n",
    "\n",
    "df = fdr.DataReader('006650', start = '2021')\n",
    "\n",
    "df = df[['Close']].copy()\n",
    "df"
   ]
  },
  {
   "cell_type": "code",
   "execution_count": 2,
   "metadata": {
    "ExecuteTime": {
     "end_time": "2021-12-14T02:48:50.511037Z",
     "start_time": "2021-12-14T02:48:50.489971Z"
    },
    "pycharm": {
     "name": "#%%\n"
    }
   },
   "outputs": [
    {
     "data": {
      "text/plain": "             Close   Change\nDate                       \n2021-01-04  234000      NaN\n2021-01-05  235000   1000.0\n2021-01-06  277000  42000.0\n2021-01-07  290500  13500.0\n2021-01-08  285000  -5500.0\n...            ...      ...\n2022-07-11  126000  -2500.0\n2022-07-12  117500  -8500.0\n2022-07-13  122500   5000.0\n2022-07-14  120500  -2000.0\n2022-07-15  120000   -500.0\n\n[380 rows x 2 columns]",
      "text/html": "<div>\n<style scoped>\n    .dataframe tbody tr th:only-of-type {\n        vertical-align: middle;\n    }\n\n    .dataframe tbody tr th {\n        vertical-align: top;\n    }\n\n    .dataframe thead th {\n        text-align: right;\n    }\n</style>\n<table border=\"1\" class=\"dataframe\">\n  <thead>\n    <tr style=\"text-align: right;\">\n      <th></th>\n      <th>Close</th>\n      <th>Change</th>\n    </tr>\n    <tr>\n      <th>Date</th>\n      <th></th>\n      <th></th>\n    </tr>\n  </thead>\n  <tbody>\n    <tr>\n      <th>2021-01-04</th>\n      <td>234000</td>\n      <td>NaN</td>\n    </tr>\n    <tr>\n      <th>2021-01-05</th>\n      <td>235000</td>\n      <td>1000.0</td>\n    </tr>\n    <tr>\n      <th>2021-01-06</th>\n      <td>277000</td>\n      <td>42000.0</td>\n    </tr>\n    <tr>\n      <th>2021-01-07</th>\n      <td>290500</td>\n      <td>13500.0</td>\n    </tr>\n    <tr>\n      <th>2021-01-08</th>\n      <td>285000</td>\n      <td>-5500.0</td>\n    </tr>\n    <tr>\n      <th>...</th>\n      <td>...</td>\n      <td>...</td>\n    </tr>\n    <tr>\n      <th>2022-07-11</th>\n      <td>126000</td>\n      <td>-2500.0</td>\n    </tr>\n    <tr>\n      <th>2022-07-12</th>\n      <td>117500</td>\n      <td>-8500.0</td>\n    </tr>\n    <tr>\n      <th>2022-07-13</th>\n      <td>122500</td>\n      <td>5000.0</td>\n    </tr>\n    <tr>\n      <th>2022-07-14</th>\n      <td>120500</td>\n      <td>-2000.0</td>\n    </tr>\n    <tr>\n      <th>2022-07-15</th>\n      <td>120000</td>\n      <td>-500.0</td>\n    </tr>\n  </tbody>\n</table>\n<p>380 rows × 2 columns</p>\n</div>"
     },
     "execution_count": 2,
     "metadata": {},
     "output_type": "execute_result"
    }
   ],
   "source": [
    "# np.where 사용\n",
    "\n",
    "df['Change'] = df['Close'] - df['Close'].shift(1)\n",
    "df"
   ]
  },
  {
   "cell_type": "code",
   "execution_count": 3,
   "metadata": {
    "ExecuteTime": {
     "end_time": "2021-12-14T02:49:55.186761Z",
     "start_time": "2021-12-14T02:49:55.169107Z"
    },
    "pycharm": {
     "name": "#%%\n"
    }
   },
   "outputs": [
    {
     "data": {
      "text/plain": "             Close   Change     Gain    Loss\nDate                                        \n2021-01-04  234000      NaN      0.0     0.0\n2021-01-05  235000   1000.0   1000.0     0.0\n2021-01-06  277000  42000.0  42000.0     0.0\n2021-01-07  290500  13500.0  13500.0     0.0\n2021-01-08  285000  -5500.0      0.0  5500.0\n...            ...      ...      ...     ...\n2022-07-11  126000  -2500.0      0.0  2500.0\n2022-07-12  117500  -8500.0      0.0  8500.0\n2022-07-13  122500   5000.0   5000.0     0.0\n2022-07-14  120500  -2000.0      0.0  2000.0\n2022-07-15  120000   -500.0      0.0   500.0\n\n[380 rows x 4 columns]",
      "text/html": "<div>\n<style scoped>\n    .dataframe tbody tr th:only-of-type {\n        vertical-align: middle;\n    }\n\n    .dataframe tbody tr th {\n        vertical-align: top;\n    }\n\n    .dataframe thead th {\n        text-align: right;\n    }\n</style>\n<table border=\"1\" class=\"dataframe\">\n  <thead>\n    <tr style=\"text-align: right;\">\n      <th></th>\n      <th>Close</th>\n      <th>Change</th>\n      <th>Gain</th>\n      <th>Loss</th>\n    </tr>\n    <tr>\n      <th>Date</th>\n      <th></th>\n      <th></th>\n      <th></th>\n      <th></th>\n    </tr>\n  </thead>\n  <tbody>\n    <tr>\n      <th>2021-01-04</th>\n      <td>234000</td>\n      <td>NaN</td>\n      <td>0.0</td>\n      <td>0.0</td>\n    </tr>\n    <tr>\n      <th>2021-01-05</th>\n      <td>235000</td>\n      <td>1000.0</td>\n      <td>1000.0</td>\n      <td>0.0</td>\n    </tr>\n    <tr>\n      <th>2021-01-06</th>\n      <td>277000</td>\n      <td>42000.0</td>\n      <td>42000.0</td>\n      <td>0.0</td>\n    </tr>\n    <tr>\n      <th>2021-01-07</th>\n      <td>290500</td>\n      <td>13500.0</td>\n      <td>13500.0</td>\n      <td>0.0</td>\n    </tr>\n    <tr>\n      <th>2021-01-08</th>\n      <td>285000</td>\n      <td>-5500.0</td>\n      <td>0.0</td>\n      <td>5500.0</td>\n    </tr>\n    <tr>\n      <th>...</th>\n      <td>...</td>\n      <td>...</td>\n      <td>...</td>\n      <td>...</td>\n    </tr>\n    <tr>\n      <th>2022-07-11</th>\n      <td>126000</td>\n      <td>-2500.0</td>\n      <td>0.0</td>\n      <td>2500.0</td>\n    </tr>\n    <tr>\n      <th>2022-07-12</th>\n      <td>117500</td>\n      <td>-8500.0</td>\n      <td>0.0</td>\n      <td>8500.0</td>\n    </tr>\n    <tr>\n      <th>2022-07-13</th>\n      <td>122500</td>\n      <td>5000.0</td>\n      <td>5000.0</td>\n      <td>0.0</td>\n    </tr>\n    <tr>\n      <th>2022-07-14</th>\n      <td>120500</td>\n      <td>-2000.0</td>\n      <td>0.0</td>\n      <td>2000.0</td>\n    </tr>\n    <tr>\n      <th>2022-07-15</th>\n      <td>120000</td>\n      <td>-500.0</td>\n      <td>0.0</td>\n      <td>500.0</td>\n    </tr>\n  </tbody>\n</table>\n<p>380 rows × 4 columns</p>\n</div>"
     },
     "execution_count": 3,
     "metadata": {},
     "output_type": "execute_result"
    }
   ],
   "source": [
    "df['Gain'] = np.where(df['Change']>=0, df['Change'], 0)\n",
    "df['Loss'] = np.where(df['Change']<0, df['Change']*-1, 0)\n",
    "df"
   ]
  },
  {
   "cell_type": "code",
   "execution_count": 4,
   "metadata": {
    "ExecuteTime": {
     "end_time": "2021-12-14T02:50:57.602089Z",
     "start_time": "2021-12-14T02:50:57.592240Z"
    },
    "pycharm": {
     "name": "#%%\n"
    }
   },
   "outputs": [
    {
     "data": {
      "text/plain": "Date\n2021-01-04            NaN\n2021-01-05            NaN\n2021-01-06            NaN\n2021-01-07            NaN\n2021-01-08            NaN\n                 ...     \n2022-07-11    1071.428571\n2022-07-12    1071.428571\n2022-07-13    1428.571429\n2022-07-14    1178.571429\n2022-07-15     964.285714\nName: Gain, Length: 380, dtype: float64"
     },
     "execution_count": 4,
     "metadata": {},
     "output_type": "execute_result"
    }
   ],
   "source": [
    "df['Gain'].rolling(window = 14).mean()"
   ]
  },
  {
   "cell_type": "code",
   "execution_count": 5,
   "metadata": {
    "ExecuteTime": {
     "end_time": "2021-12-14T02:51:08.684384Z",
     "start_time": "2021-12-14T02:51:08.665353Z"
    },
    "pycharm": {
     "name": "#%%\n"
    }
   },
   "outputs": [
    {
     "data": {
      "text/plain": "             Close   Change     Gain     Loss      avgGain      avgLoss\nDate                                                                   \n2021-01-04  234000      NaN      0.0      0.0          NaN          NaN\n2021-01-05  235000   1000.0   1000.0      0.0          NaN          NaN\n2021-01-06  277000  42000.0  42000.0      0.0          NaN          NaN\n2021-01-07  290500  13500.0  13500.0      0.0          NaN          NaN\n2021-01-08  285000  -5500.0      0.0   5500.0          NaN          NaN\n2021-01-11  277000  -8000.0      0.0   8000.0          NaN          NaN\n2021-01-12  282000   5000.0   5000.0      0.0          NaN          NaN\n2021-01-13  277500  -4500.0      0.0   4500.0          NaN          NaN\n2021-01-14  284000   6500.0   6500.0      0.0          NaN          NaN\n2021-01-15  281000  -3000.0      0.0   3000.0          NaN          NaN\n2021-01-18  272500  -8500.0      0.0   8500.0          NaN          NaN\n2021-01-19  278000   5500.0   5500.0      0.0          NaN          NaN\n2021-01-20  276000  -2000.0      0.0   2000.0          NaN          NaN\n2021-01-21  275000  -1000.0      0.0   1000.0  5250.000000  2321.428571\n2021-01-22  273500  -1500.0      0.0   1500.0  5250.000000  2428.571429\n2021-01-25  279500   6000.0   6000.0      0.0  5607.142857  2428.571429\n2021-01-26  274000  -5500.0      0.0   5500.0  2607.142857  2821.428571\n2021-01-27  289000  15000.0  15000.0      0.0  2714.285714  2821.428571\n2021-01-28  298500   9500.0   9500.0      0.0  3392.857143  2428.571429\n2021-01-29  284000 -14500.0      0.0  14500.0  3392.857143  2892.857143",
      "text/html": "<div>\n<style scoped>\n    .dataframe tbody tr th:only-of-type {\n        vertical-align: middle;\n    }\n\n    .dataframe tbody tr th {\n        vertical-align: top;\n    }\n\n    .dataframe thead th {\n        text-align: right;\n    }\n</style>\n<table border=\"1\" class=\"dataframe\">\n  <thead>\n    <tr style=\"text-align: right;\">\n      <th></th>\n      <th>Close</th>\n      <th>Change</th>\n      <th>Gain</th>\n      <th>Loss</th>\n      <th>avgGain</th>\n      <th>avgLoss</th>\n    </tr>\n    <tr>\n      <th>Date</th>\n      <th></th>\n      <th></th>\n      <th></th>\n      <th></th>\n      <th></th>\n      <th></th>\n    </tr>\n  </thead>\n  <tbody>\n    <tr>\n      <th>2021-01-04</th>\n      <td>234000</td>\n      <td>NaN</td>\n      <td>0.0</td>\n      <td>0.0</td>\n      <td>NaN</td>\n      <td>NaN</td>\n    </tr>\n    <tr>\n      <th>2021-01-05</th>\n      <td>235000</td>\n      <td>1000.0</td>\n      <td>1000.0</td>\n      <td>0.0</td>\n      <td>NaN</td>\n      <td>NaN</td>\n    </tr>\n    <tr>\n      <th>2021-01-06</th>\n      <td>277000</td>\n      <td>42000.0</td>\n      <td>42000.0</td>\n      <td>0.0</td>\n      <td>NaN</td>\n      <td>NaN</td>\n    </tr>\n    <tr>\n      <th>2021-01-07</th>\n      <td>290500</td>\n      <td>13500.0</td>\n      <td>13500.0</td>\n      <td>0.0</td>\n      <td>NaN</td>\n      <td>NaN</td>\n    </tr>\n    <tr>\n      <th>2021-01-08</th>\n      <td>285000</td>\n      <td>-5500.0</td>\n      <td>0.0</td>\n      <td>5500.0</td>\n      <td>NaN</td>\n      <td>NaN</td>\n    </tr>\n    <tr>\n      <th>2021-01-11</th>\n      <td>277000</td>\n      <td>-8000.0</td>\n      <td>0.0</td>\n      <td>8000.0</td>\n      <td>NaN</td>\n      <td>NaN</td>\n    </tr>\n    <tr>\n      <th>2021-01-12</th>\n      <td>282000</td>\n      <td>5000.0</td>\n      <td>5000.0</td>\n      <td>0.0</td>\n      <td>NaN</td>\n      <td>NaN</td>\n    </tr>\n    <tr>\n      <th>2021-01-13</th>\n      <td>277500</td>\n      <td>-4500.0</td>\n      <td>0.0</td>\n      <td>4500.0</td>\n      <td>NaN</td>\n      <td>NaN</td>\n    </tr>\n    <tr>\n      <th>2021-01-14</th>\n      <td>284000</td>\n      <td>6500.0</td>\n      <td>6500.0</td>\n      <td>0.0</td>\n      <td>NaN</td>\n      <td>NaN</td>\n    </tr>\n    <tr>\n      <th>2021-01-15</th>\n      <td>281000</td>\n      <td>-3000.0</td>\n      <td>0.0</td>\n      <td>3000.0</td>\n      <td>NaN</td>\n      <td>NaN</td>\n    </tr>\n    <tr>\n      <th>2021-01-18</th>\n      <td>272500</td>\n      <td>-8500.0</td>\n      <td>0.0</td>\n      <td>8500.0</td>\n      <td>NaN</td>\n      <td>NaN</td>\n    </tr>\n    <tr>\n      <th>2021-01-19</th>\n      <td>278000</td>\n      <td>5500.0</td>\n      <td>5500.0</td>\n      <td>0.0</td>\n      <td>NaN</td>\n      <td>NaN</td>\n    </tr>\n    <tr>\n      <th>2021-01-20</th>\n      <td>276000</td>\n      <td>-2000.0</td>\n      <td>0.0</td>\n      <td>2000.0</td>\n      <td>NaN</td>\n      <td>NaN</td>\n    </tr>\n    <tr>\n      <th>2021-01-21</th>\n      <td>275000</td>\n      <td>-1000.0</td>\n      <td>0.0</td>\n      <td>1000.0</td>\n      <td>5250.000000</td>\n      <td>2321.428571</td>\n    </tr>\n    <tr>\n      <th>2021-01-22</th>\n      <td>273500</td>\n      <td>-1500.0</td>\n      <td>0.0</td>\n      <td>1500.0</td>\n      <td>5250.000000</td>\n      <td>2428.571429</td>\n    </tr>\n    <tr>\n      <th>2021-01-25</th>\n      <td>279500</td>\n      <td>6000.0</td>\n      <td>6000.0</td>\n      <td>0.0</td>\n      <td>5607.142857</td>\n      <td>2428.571429</td>\n    </tr>\n    <tr>\n      <th>2021-01-26</th>\n      <td>274000</td>\n      <td>-5500.0</td>\n      <td>0.0</td>\n      <td>5500.0</td>\n      <td>2607.142857</td>\n      <td>2821.428571</td>\n    </tr>\n    <tr>\n      <th>2021-01-27</th>\n      <td>289000</td>\n      <td>15000.0</td>\n      <td>15000.0</td>\n      <td>0.0</td>\n      <td>2714.285714</td>\n      <td>2821.428571</td>\n    </tr>\n    <tr>\n      <th>2021-01-28</th>\n      <td>298500</td>\n      <td>9500.0</td>\n      <td>9500.0</td>\n      <td>0.0</td>\n      <td>3392.857143</td>\n      <td>2428.571429</td>\n    </tr>\n    <tr>\n      <th>2021-01-29</th>\n      <td>284000</td>\n      <td>-14500.0</td>\n      <td>0.0</td>\n      <td>14500.0</td>\n      <td>3392.857143</td>\n      <td>2892.857143</td>\n    </tr>\n  </tbody>\n</table>\n</div>"
     },
     "execution_count": 5,
     "metadata": {},
     "output_type": "execute_result"
    }
   ],
   "source": [
    "# 이동평균\n",
    "df['avgGain'] = df['Gain'].rolling(window = 14).mean()\n",
    "df['avgLoss'] = df['Loss'].rolling(window = 14).mean()\n",
    "df\n",
    "\n",
    "df.head(20)"
   ]
  },
  {
   "cell_type": "markdown",
   "metadata": {
    "pycharm": {
     "name": "#%% md\n"
    }
   },
   "source": [
    "# RSI 함수 만들기"
   ]
  },
  {
   "cell_type": "code",
   "execution_count": 6,
   "metadata": {
    "ExecuteTime": {
     "end_time": "2021-12-14T03:00:51.546824Z",
     "start_time": "2021-12-14T03:00:51.329430Z"
    },
    "pycharm": {
     "name": "#%%\n"
    }
   },
   "outputs": [
    {
     "data": {
      "text/plain": "              Open    High     Low   Close  Volume    Change\nDate                                                        \n2021-01-04  233000  240000  231000  234000  119512  0.017391\n2021-01-05  234000  236500  227500  235000   78425  0.004274\n2021-01-06  255000  287500  249500  277000  621523  0.178723\n2021-01-07  291000  298500  278000  290500  251334  0.048736\n2021-01-08  295000  295500  280000  285000  174917 -0.018933\n...            ...     ...     ...     ...     ...       ...\n2022-07-11  130500  130500  125500  126000   34005 -0.019455\n2022-07-12  125500  126500  116000  117500   68785 -0.067460\n2022-07-13  118500  123000  118500  122500   36296  0.042553\n2022-07-14  121500  122000  119000  120500   32579 -0.016327\n2022-07-15  120500  122500  118000  120000   28780 -0.004149\n\n[380 rows x 6 columns]",
      "text/html": "<div>\n<style scoped>\n    .dataframe tbody tr th:only-of-type {\n        vertical-align: middle;\n    }\n\n    .dataframe tbody tr th {\n        vertical-align: top;\n    }\n\n    .dataframe thead th {\n        text-align: right;\n    }\n</style>\n<table border=\"1\" class=\"dataframe\">\n  <thead>\n    <tr style=\"text-align: right;\">\n      <th></th>\n      <th>Open</th>\n      <th>High</th>\n      <th>Low</th>\n      <th>Close</th>\n      <th>Volume</th>\n      <th>Change</th>\n    </tr>\n    <tr>\n      <th>Date</th>\n      <th></th>\n      <th></th>\n      <th></th>\n      <th></th>\n      <th></th>\n      <th></th>\n    </tr>\n  </thead>\n  <tbody>\n    <tr>\n      <th>2021-01-04</th>\n      <td>233000</td>\n      <td>240000</td>\n      <td>231000</td>\n      <td>234000</td>\n      <td>119512</td>\n      <td>0.017391</td>\n    </tr>\n    <tr>\n      <th>2021-01-05</th>\n      <td>234000</td>\n      <td>236500</td>\n      <td>227500</td>\n      <td>235000</td>\n      <td>78425</td>\n      <td>0.004274</td>\n    </tr>\n    <tr>\n      <th>2021-01-06</th>\n      <td>255000</td>\n      <td>287500</td>\n      <td>249500</td>\n      <td>277000</td>\n      <td>621523</td>\n      <td>0.178723</td>\n    </tr>\n    <tr>\n      <th>2021-01-07</th>\n      <td>291000</td>\n      <td>298500</td>\n      <td>278000</td>\n      <td>290500</td>\n      <td>251334</td>\n      <td>0.048736</td>\n    </tr>\n    <tr>\n      <th>2021-01-08</th>\n      <td>295000</td>\n      <td>295500</td>\n      <td>280000</td>\n      <td>285000</td>\n      <td>174917</td>\n      <td>-0.018933</td>\n    </tr>\n    <tr>\n      <th>...</th>\n      <td>...</td>\n      <td>...</td>\n      <td>...</td>\n      <td>...</td>\n      <td>...</td>\n      <td>...</td>\n    </tr>\n    <tr>\n      <th>2022-07-11</th>\n      <td>130500</td>\n      <td>130500</td>\n      <td>125500</td>\n      <td>126000</td>\n      <td>34005</td>\n      <td>-0.019455</td>\n    </tr>\n    <tr>\n      <th>2022-07-12</th>\n      <td>125500</td>\n      <td>126500</td>\n      <td>116000</td>\n      <td>117500</td>\n      <td>68785</td>\n      <td>-0.067460</td>\n    </tr>\n    <tr>\n      <th>2022-07-13</th>\n      <td>118500</td>\n      <td>123000</td>\n      <td>118500</td>\n      <td>122500</td>\n      <td>36296</td>\n      <td>0.042553</td>\n    </tr>\n    <tr>\n      <th>2022-07-14</th>\n      <td>121500</td>\n      <td>122000</td>\n      <td>119000</td>\n      <td>120500</td>\n      <td>32579</td>\n      <td>-0.016327</td>\n    </tr>\n    <tr>\n      <th>2022-07-15</th>\n      <td>120500</td>\n      <td>122500</td>\n      <td>118000</td>\n      <td>120000</td>\n      <td>28780</td>\n      <td>-0.004149</td>\n    </tr>\n  </tbody>\n</table>\n<p>380 rows × 6 columns</p>\n</div>"
     },
     "execution_count": 6,
     "metadata": {},
     "output_type": "execute_result"
    }
   ],
   "source": [
    "import FinanceDataReader as fdr\n",
    "import numpy as np\n",
    "\n",
    "df = fdr.DataReader('006650', start = '2021')\n",
    "\n",
    "df"
   ]
  },
  {
   "cell_type": "code",
   "execution_count": 7,
   "metadata": {
    "ExecuteTime": {
     "end_time": "2021-12-14T03:06:31.614019Z",
     "start_time": "2021-12-14T03:06:31.601753Z"
    },
    "pycharm": {
     "name": "#%%\n"
    }
   },
   "outputs": [],
   "source": [
    "def rsi_fn(df, rsi_period):\n",
    "    \n",
    "    df_close = df[['Close']].copy()\n",
    "    \n",
    "    df_close['Change'] = df_close['Close'] - df_close['Close'].shift(1)\n",
    "    \n",
    "    df_close['Gain'] = np.where(df_close['Change']>=0, df_close['Change'], 0)\n",
    "    \n",
    "    df_close['Loss'] = np.where(df_close['Change']<0, df_close['Change']*-1, 0)\n",
    "    \n",
    "    df_close['avgGain'] = df_close['Gain'].rolling(window = rsi_period).mean()\n",
    "    \n",
    "    df_close['avgLoss'] = df_close['Loss'].rolling(window = rsi_period).mean()\n",
    "    \n",
    "    df_close['RS'] = df_close[\"avgGain\"] / df_close['avgLoss']\n",
    "    \n",
    "    df_close['RSI'] = 100 - (100/(1+df_close['RS']))\n",
    "    \n",
    "    return df_close"
   ]
  },
  {
   "cell_type": "code",
   "execution_count": 8,
   "metadata": {
    "ExecuteTime": {
     "end_time": "2021-12-14T03:06:40.701239Z",
     "start_time": "2021-12-14T03:06:40.666682Z"
    },
    "pycharm": {
     "name": "#%%\n"
    }
   },
   "outputs": [
    {
     "data": {
      "text/plain": "             Close   Change     Gain     Loss      avgGain      avgLoss  \\\nDate                                                                      \n2021-01-04  234000      NaN      0.0      0.0          NaN          NaN   \n2021-01-05  235000   1000.0   1000.0      0.0          NaN          NaN   \n2021-01-06  277000  42000.0  42000.0      0.0          NaN          NaN   \n2021-01-07  290500  13500.0  13500.0      0.0          NaN          NaN   \n2021-01-08  285000  -5500.0      0.0   5500.0          NaN          NaN   \n2021-01-11  277000  -8000.0      0.0   8000.0          NaN          NaN   \n2021-01-12  282000   5000.0   5000.0      0.0          NaN          NaN   \n2021-01-13  277500  -4500.0      0.0   4500.0          NaN          NaN   \n2021-01-14  284000   6500.0   6500.0      0.0          NaN          NaN   \n2021-01-15  281000  -3000.0      0.0   3000.0          NaN          NaN   \n2021-01-18  272500  -8500.0      0.0   8500.0          NaN          NaN   \n2021-01-19  278000   5500.0   5500.0      0.0          NaN          NaN   \n2021-01-20  276000  -2000.0      0.0   2000.0          NaN          NaN   \n2021-01-21  275000  -1000.0      0.0   1000.0  5250.000000  2321.428571   \n2021-01-22  273500  -1500.0      0.0   1500.0  5250.000000  2428.571429   \n2021-01-25  279500   6000.0   6000.0      0.0  5607.142857  2428.571429   \n2021-01-26  274000  -5500.0      0.0   5500.0  2607.142857  2821.428571   \n2021-01-27  289000  15000.0  15000.0      0.0  2714.285714  2821.428571   \n2021-01-28  298500   9500.0   9500.0      0.0  3392.857143  2428.571429   \n2021-01-29  284000 -14500.0      0.0  14500.0  3392.857143  2892.857143   \n\n                  RS        RSI  \nDate                             \n2021-01-04       NaN        NaN  \n2021-01-05       NaN        NaN  \n2021-01-06       NaN        NaN  \n2021-01-07       NaN        NaN  \n2021-01-08       NaN        NaN  \n2021-01-11       NaN        NaN  \n2021-01-12       NaN        NaN  \n2021-01-13       NaN        NaN  \n2021-01-14       NaN        NaN  \n2021-01-15       NaN        NaN  \n2021-01-18       NaN        NaN  \n2021-01-19       NaN        NaN  \n2021-01-20       NaN        NaN  \n2021-01-21  2.261538  69.339623  \n2021-01-22  2.161765  68.372093  \n2021-01-25  2.308824  69.777778  \n2021-01-26  0.924051  48.026316  \n2021-01-27  0.962025  49.032258  \n2021-01-28  1.397059  58.282209  \n2021-01-29  1.172840  53.977273  ",
      "text/html": "<div>\n<style scoped>\n    .dataframe tbody tr th:only-of-type {\n        vertical-align: middle;\n    }\n\n    .dataframe tbody tr th {\n        vertical-align: top;\n    }\n\n    .dataframe thead th {\n        text-align: right;\n    }\n</style>\n<table border=\"1\" class=\"dataframe\">\n  <thead>\n    <tr style=\"text-align: right;\">\n      <th></th>\n      <th>Close</th>\n      <th>Change</th>\n      <th>Gain</th>\n      <th>Loss</th>\n      <th>avgGain</th>\n      <th>avgLoss</th>\n      <th>RS</th>\n      <th>RSI</th>\n    </tr>\n    <tr>\n      <th>Date</th>\n      <th></th>\n      <th></th>\n      <th></th>\n      <th></th>\n      <th></th>\n      <th></th>\n      <th></th>\n      <th></th>\n    </tr>\n  </thead>\n  <tbody>\n    <tr>\n      <th>2021-01-04</th>\n      <td>234000</td>\n      <td>NaN</td>\n      <td>0.0</td>\n      <td>0.0</td>\n      <td>NaN</td>\n      <td>NaN</td>\n      <td>NaN</td>\n      <td>NaN</td>\n    </tr>\n    <tr>\n      <th>2021-01-05</th>\n      <td>235000</td>\n      <td>1000.0</td>\n      <td>1000.0</td>\n      <td>0.0</td>\n      <td>NaN</td>\n      <td>NaN</td>\n      <td>NaN</td>\n      <td>NaN</td>\n    </tr>\n    <tr>\n      <th>2021-01-06</th>\n      <td>277000</td>\n      <td>42000.0</td>\n      <td>42000.0</td>\n      <td>0.0</td>\n      <td>NaN</td>\n      <td>NaN</td>\n      <td>NaN</td>\n      <td>NaN</td>\n    </tr>\n    <tr>\n      <th>2021-01-07</th>\n      <td>290500</td>\n      <td>13500.0</td>\n      <td>13500.0</td>\n      <td>0.0</td>\n      <td>NaN</td>\n      <td>NaN</td>\n      <td>NaN</td>\n      <td>NaN</td>\n    </tr>\n    <tr>\n      <th>2021-01-08</th>\n      <td>285000</td>\n      <td>-5500.0</td>\n      <td>0.0</td>\n      <td>5500.0</td>\n      <td>NaN</td>\n      <td>NaN</td>\n      <td>NaN</td>\n      <td>NaN</td>\n    </tr>\n    <tr>\n      <th>2021-01-11</th>\n      <td>277000</td>\n      <td>-8000.0</td>\n      <td>0.0</td>\n      <td>8000.0</td>\n      <td>NaN</td>\n      <td>NaN</td>\n      <td>NaN</td>\n      <td>NaN</td>\n    </tr>\n    <tr>\n      <th>2021-01-12</th>\n      <td>282000</td>\n      <td>5000.0</td>\n      <td>5000.0</td>\n      <td>0.0</td>\n      <td>NaN</td>\n      <td>NaN</td>\n      <td>NaN</td>\n      <td>NaN</td>\n    </tr>\n    <tr>\n      <th>2021-01-13</th>\n      <td>277500</td>\n      <td>-4500.0</td>\n      <td>0.0</td>\n      <td>4500.0</td>\n      <td>NaN</td>\n      <td>NaN</td>\n      <td>NaN</td>\n      <td>NaN</td>\n    </tr>\n    <tr>\n      <th>2021-01-14</th>\n      <td>284000</td>\n      <td>6500.0</td>\n      <td>6500.0</td>\n      <td>0.0</td>\n      <td>NaN</td>\n      <td>NaN</td>\n      <td>NaN</td>\n      <td>NaN</td>\n    </tr>\n    <tr>\n      <th>2021-01-15</th>\n      <td>281000</td>\n      <td>-3000.0</td>\n      <td>0.0</td>\n      <td>3000.0</td>\n      <td>NaN</td>\n      <td>NaN</td>\n      <td>NaN</td>\n      <td>NaN</td>\n    </tr>\n    <tr>\n      <th>2021-01-18</th>\n      <td>272500</td>\n      <td>-8500.0</td>\n      <td>0.0</td>\n      <td>8500.0</td>\n      <td>NaN</td>\n      <td>NaN</td>\n      <td>NaN</td>\n      <td>NaN</td>\n    </tr>\n    <tr>\n      <th>2021-01-19</th>\n      <td>278000</td>\n      <td>5500.0</td>\n      <td>5500.0</td>\n      <td>0.0</td>\n      <td>NaN</td>\n      <td>NaN</td>\n      <td>NaN</td>\n      <td>NaN</td>\n    </tr>\n    <tr>\n      <th>2021-01-20</th>\n      <td>276000</td>\n      <td>-2000.0</td>\n      <td>0.0</td>\n      <td>2000.0</td>\n      <td>NaN</td>\n      <td>NaN</td>\n      <td>NaN</td>\n      <td>NaN</td>\n    </tr>\n    <tr>\n      <th>2021-01-21</th>\n      <td>275000</td>\n      <td>-1000.0</td>\n      <td>0.0</td>\n      <td>1000.0</td>\n      <td>5250.000000</td>\n      <td>2321.428571</td>\n      <td>2.261538</td>\n      <td>69.339623</td>\n    </tr>\n    <tr>\n      <th>2021-01-22</th>\n      <td>273500</td>\n      <td>-1500.0</td>\n      <td>0.0</td>\n      <td>1500.0</td>\n      <td>5250.000000</td>\n      <td>2428.571429</td>\n      <td>2.161765</td>\n      <td>68.372093</td>\n    </tr>\n    <tr>\n      <th>2021-01-25</th>\n      <td>279500</td>\n      <td>6000.0</td>\n      <td>6000.0</td>\n      <td>0.0</td>\n      <td>5607.142857</td>\n      <td>2428.571429</td>\n      <td>2.308824</td>\n      <td>69.777778</td>\n    </tr>\n    <tr>\n      <th>2021-01-26</th>\n      <td>274000</td>\n      <td>-5500.0</td>\n      <td>0.0</td>\n      <td>5500.0</td>\n      <td>2607.142857</td>\n      <td>2821.428571</td>\n      <td>0.924051</td>\n      <td>48.026316</td>\n    </tr>\n    <tr>\n      <th>2021-01-27</th>\n      <td>289000</td>\n      <td>15000.0</td>\n      <td>15000.0</td>\n      <td>0.0</td>\n      <td>2714.285714</td>\n      <td>2821.428571</td>\n      <td>0.962025</td>\n      <td>49.032258</td>\n    </tr>\n    <tr>\n      <th>2021-01-28</th>\n      <td>298500</td>\n      <td>9500.0</td>\n      <td>9500.0</td>\n      <td>0.0</td>\n      <td>3392.857143</td>\n      <td>2428.571429</td>\n      <td>1.397059</td>\n      <td>58.282209</td>\n    </tr>\n    <tr>\n      <th>2021-01-29</th>\n      <td>284000</td>\n      <td>-14500.0</td>\n      <td>0.0</td>\n      <td>14500.0</td>\n      <td>3392.857143</td>\n      <td>2892.857143</td>\n      <td>1.172840</td>\n      <td>53.977273</td>\n    </tr>\n  </tbody>\n</table>\n</div>"
     },
     "execution_count": 8,
     "metadata": {},
     "output_type": "execute_result"
    }
   ],
   "source": [
    "df_rsi = rsi_fn(df, rsi_period = 14)\n",
    "df_rsi.head(20)"
   ]
  },
  {
   "cell_type": "code",
   "execution_count": null,
   "metadata": {
    "pycharm": {
     "name": "#%%\n"
    }
   },
   "outputs": [],
   "source": []
  }
 ],
 "metadata": {
  "hide_input": false,
  "kernelspec": {
   "display_name": "Python 3",
   "language": "python",
   "name": "python3"
  },
  "language_info": {
   "codemirror_mode": {
    "name": "ipython",
    "version": 3
   },
   "file_extension": ".py",
   "mimetype": "text/x-python",
   "name": "python",
   "nbconvert_exporter": "python",
   "pygments_lexer": "ipython3",
   "version": "3.8.5"
  },
  "toc": {
   "base_numbering": 1,
   "nav_menu": {},
   "number_sections": true,
   "sideBar": true,
   "skip_h1_title": false,
   "title_cell": "Table of Contents",
   "title_sidebar": "Contents",
   "toc_cell": false,
   "toc_position": {},
   "toc_section_display": true,
   "toc_window_display": true
  },
  "varInspector": {
   "cols": {
    "lenName": 16,
    "lenType": 16,
    "lenVar": 40
   },
   "kernels_config": {
    "python": {
     "delete_cmd_postfix": "",
     "delete_cmd_prefix": "del ",
     "library": "var_list.py",
     "varRefreshCmd": "print(var_dic_list())"
    },
    "r": {
     "delete_cmd_postfix": ") ",
     "delete_cmd_prefix": "rm(",
     "library": "var_list.r",
     "varRefreshCmd": "cat(var_dic_list()) "
    }
   },
   "types_to_exclude": [
    "module",
    "function",
    "builtin_function_or_method",
    "instance",
    "_Feature"
   ],
   "window_display": false
  }
 },
 "nbformat": 4,
 "nbformat_minor": 4
}