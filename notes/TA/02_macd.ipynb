{
 "cells": [
  {
   "cell_type": "markdown",
   "metadata": {
    "heading_collapsed": true,
    "pycharm": {
     "name": "#%% md\n"
    }
   },
   "source": [
    "# EWM(지수이동평균, 직접구현)"
   ]
  },
  {
   "cell_type": "code",
   "execution_count": 9,
   "metadata": {
    "ExecuteTime": {
     "end_time": "2021-12-12T08:57:13.419927Z",
     "start_time": "2021-12-12T08:57:13.257495Z"
    },
    "hidden": true,
    "pycharm": {
     "name": "#%%\n"
    }
   },
   "outputs": [
    {
     "data": {
      "text/plain": "            Close\nDate             \n2021-01-04  83000\n2021-01-05  83900\n2021-01-06  82200\n2021-01-07  82900\n2021-01-08  88800\n...           ...\n2022-07-11  58800\n2022-07-12  58100\n2022-07-13  58000\n2022-07-14  57500\n2022-07-15  60000\n\n[380 rows x 1 columns]",
      "text/html": "<div>\n<style scoped>\n    .dataframe tbody tr th:only-of-type {\n        vertical-align: middle;\n    }\n\n    .dataframe tbody tr th {\n        vertical-align: top;\n    }\n\n    .dataframe thead th {\n        text-align: right;\n    }\n</style>\n<table border=\"1\" class=\"dataframe\">\n  <thead>\n    <tr style=\"text-align: right;\">\n      <th></th>\n      <th>Close</th>\n    </tr>\n    <tr>\n      <th>Date</th>\n      <th></th>\n    </tr>\n  </thead>\n  <tbody>\n    <tr>\n      <th>2021-01-04</th>\n      <td>83000</td>\n    </tr>\n    <tr>\n      <th>2021-01-05</th>\n      <td>83900</td>\n    </tr>\n    <tr>\n      <th>2021-01-06</th>\n      <td>82200</td>\n    </tr>\n    <tr>\n      <th>2021-01-07</th>\n      <td>82900</td>\n    </tr>\n    <tr>\n      <th>2021-01-08</th>\n      <td>88800</td>\n    </tr>\n    <tr>\n      <th>...</th>\n      <td>...</td>\n    </tr>\n    <tr>\n      <th>2022-07-11</th>\n      <td>58800</td>\n    </tr>\n    <tr>\n      <th>2022-07-12</th>\n      <td>58100</td>\n    </tr>\n    <tr>\n      <th>2022-07-13</th>\n      <td>58000</td>\n    </tr>\n    <tr>\n      <th>2022-07-14</th>\n      <td>57500</td>\n    </tr>\n    <tr>\n      <th>2022-07-15</th>\n      <td>60000</td>\n    </tr>\n  </tbody>\n</table>\n<p>380 rows × 1 columns</p>\n</div>"
     },
     "execution_count": 9,
     "metadata": {},
     "output_type": "execute_result"
    }
   ],
   "source": [
    "import FinanceDataReader as fdr\n",
    "df = fdr.DataReader(\"005930\", start = \"2021\")\n",
    "df = df[['Close']]\n",
    "df"
   ]
  },
  {
   "cell_type": "code",
   "execution_count": 10,
   "metadata": {
    "ExecuteTime": {
     "end_time": "2021-12-12T09:01:07.950534Z",
     "start_time": "2021-12-12T09:01:07.937929Z"
    },
    "hidden": true,
    "pycharm": {
     "name": "#%%\n"
    }
   },
   "outputs": [
    {
     "data": {
      "text/plain": "numpy.int64"
     },
     "execution_count": 10,
     "metadata": {},
     "output_type": "execute_result"
    }
   ],
   "source": [
    "type(df['Close'][0])"
   ]
  },
  {
   "cell_type": "code",
   "execution_count": 11,
   "metadata": {
    "ExecuteTime": {
     "end_time": "2021-12-12T09:03:54.591706Z",
     "start_time": "2021-12-12T09:03:54.553259Z"
    },
    "hidden": true,
    "pycharm": {
     "name": "#%%\n"
    }
   },
   "outputs": [
    {
     "name": "stderr",
     "output_type": "stream",
     "text": [
      "C:\\Users\\sigma\\AppData\\Local\\Temp\\ipykernel_4992\\3160434307.py:6: SettingWithCopyWarning: \n",
      "A value is trying to be set on a copy of a slice from a DataFrame\n",
      "\n",
      "See the caveats in the documentation: https://pandas.pydata.org/pandas-docs/stable/user_guide/indexing.html#returning-a-view-versus-a-copy\n",
      "  df['EWM'][index + 1] = df['Close'][index + 1] * weight + df['EWM'][index] * (1 - weight)\n"
     ]
    },
    {
     "data": {
      "text/plain": "                     EWM\nDate                    \n2021-01-04  83000.000000\n2021-01-05  83180.000000\n2021-01-06  82984.000000\n2021-01-07  82967.200000\n2021-01-08  84133.760000\n...                  ...\n2022-07-11  58055.580094\n2022-07-12  58064.464075\n2022-07-13  58051.571260\n2022-07-14  57941.257008\n2022-07-15  58353.005607\n\n[380 rows x 1 columns]",
      "text/html": "<div>\n<style scoped>\n    .dataframe tbody tr th:only-of-type {\n        vertical-align: middle;\n    }\n\n    .dataframe tbody tr th {\n        vertical-align: top;\n    }\n\n    .dataframe thead th {\n        text-align: right;\n    }\n</style>\n<table border=\"1\" class=\"dataframe\">\n  <thead>\n    <tr style=\"text-align: right;\">\n      <th></th>\n      <th>EWM</th>\n    </tr>\n    <tr>\n      <th>Date</th>\n      <th></th>\n    </tr>\n  </thead>\n  <tbody>\n    <tr>\n      <th>2021-01-04</th>\n      <td>83000.000000</td>\n    </tr>\n    <tr>\n      <th>2021-01-05</th>\n      <td>83180.000000</td>\n    </tr>\n    <tr>\n      <th>2021-01-06</th>\n      <td>82984.000000</td>\n    </tr>\n    <tr>\n      <th>2021-01-07</th>\n      <td>82967.200000</td>\n    </tr>\n    <tr>\n      <th>2021-01-08</th>\n      <td>84133.760000</td>\n    </tr>\n    <tr>\n      <th>...</th>\n      <td>...</td>\n    </tr>\n    <tr>\n      <th>2022-07-11</th>\n      <td>58055.580094</td>\n    </tr>\n    <tr>\n      <th>2022-07-12</th>\n      <td>58064.464075</td>\n    </tr>\n    <tr>\n      <th>2022-07-13</th>\n      <td>58051.571260</td>\n    </tr>\n    <tr>\n      <th>2022-07-14</th>\n      <td>57941.257008</td>\n    </tr>\n    <tr>\n      <th>2022-07-15</th>\n      <td>58353.005607</td>\n    </tr>\n  </tbody>\n</table>\n<p>380 rows × 1 columns</p>\n</div>"
     },
     "execution_count": 11,
     "metadata": {},
     "output_type": "execute_result"
    }
   ],
   "source": [
    "def ewm_fn(df, window):\n",
    "    df = df.copy()\n",
    "    weight = 2 / (1+window)\n",
    "    df['EWM'] = float(df['Close'][0])\n",
    "    for index in range(len(df['EWM']) - 1):\n",
    "        df['EWM'][index + 1] = df['Close'][index + 1] * weight + df['EWM'][index] * (1 - weight)\n",
    "    return df[['EWM']]\n",
    "df_ewm = ewm_fn(df, window = 9)\n",
    "df_ewm"
   ]
  },
  {
   "cell_type": "markdown",
   "metadata": {
    "pycharm": {
     "name": "#%% md\n"
    }
   },
   "source": [
    "# EWM(지수이동평균, pandas.DataFrame.ewm)\n",
    "- adjuest = False\n",
    "- span = N"
   ]
  },
  {
   "cell_type": "code",
   "execution_count": 12,
   "metadata": {
    "ExecuteTime": {
     "end_time": "2021-12-12T10:11:17.123667Z",
     "start_time": "2021-12-12T10:11:16.973244Z"
    },
    "pycharm": {
     "name": "#%%\n"
    }
   },
   "outputs": [],
   "source": [
    "import FinanceDataReader as fdr\n",
    "df = fdr.DataReader(\"005930\", start = '2021')\n",
    "df = df[['Close']]"
   ]
  },
  {
   "cell_type": "code",
   "execution_count": 13,
   "metadata": {
    "ExecuteTime": {
     "end_time": "2021-12-12T10:15:22.147709Z",
     "start_time": "2021-12-12T10:15:22.117477Z"
    },
    "pycharm": {
     "name": "#%%\n"
    }
   },
   "outputs": [
    {
     "data": {
      "text/plain": "            Close         Short          Long         MACD       Signal  \\\nDate                                                                      \n2021-01-04  83000  83000.000000  83000.000000     0.000000     0.000000   \n2021-01-05  83900  83180.000000  83066.666667   113.333333    16.190476   \n2021-01-06  82200  82984.000000  83002.469136   -18.469136    11.239103   \n2021-01-07  82900  82967.200000  82994.878829   -27.678829     5.679398   \n2021-01-08  88800  84133.760000  83424.887805   708.872195   106.135512   \n...           ...           ...           ...          ...          ...   \n2022-07-11  58800  58055.580094  59863.980810 -1808.400716 -2391.112872   \n2022-07-12  58100  58064.464075  59733.315565 -1668.851490 -2287.932674   \n2022-07-13  58000  58051.571260  59604.921820 -1553.350559 -2182.992372   \n2022-07-14  57500  57941.257008  59449.001685 -1507.744676 -2086.528416   \n2022-07-15  60000  58353.005607  59489.816375 -1136.810768 -1950.854466   \n\n            MACD Oscillator  \nDate                         \n2021-01-04         0.000000  \n2021-01-05        97.142857  \n2021-01-06       -29.708239  \n2021-01-07       -33.358228  \n2021-01-08       602.736683  \n...                     ...  \n2022-07-11       582.712156  \n2022-07-12       619.081185  \n2022-07-13       629.641813  \n2022-07-14       578.783739  \n2022-07-15       814.043698  \n\n[380 rows x 6 columns]",
      "text/html": "<div>\n<style scoped>\n    .dataframe tbody tr th:only-of-type {\n        vertical-align: middle;\n    }\n\n    .dataframe tbody tr th {\n        vertical-align: top;\n    }\n\n    .dataframe thead th {\n        text-align: right;\n    }\n</style>\n<table border=\"1\" class=\"dataframe\">\n  <thead>\n    <tr style=\"text-align: right;\">\n      <th></th>\n      <th>Close</th>\n      <th>Short</th>\n      <th>Long</th>\n      <th>MACD</th>\n      <th>Signal</th>\n      <th>MACD Oscillator</th>\n    </tr>\n    <tr>\n      <th>Date</th>\n      <th></th>\n      <th></th>\n      <th></th>\n      <th></th>\n      <th></th>\n      <th></th>\n    </tr>\n  </thead>\n  <tbody>\n    <tr>\n      <th>2021-01-04</th>\n      <td>83000</td>\n      <td>83000.000000</td>\n      <td>83000.000000</td>\n      <td>0.000000</td>\n      <td>0.000000</td>\n      <td>0.000000</td>\n    </tr>\n    <tr>\n      <th>2021-01-05</th>\n      <td>83900</td>\n      <td>83180.000000</td>\n      <td>83066.666667</td>\n      <td>113.333333</td>\n      <td>16.190476</td>\n      <td>97.142857</td>\n    </tr>\n    <tr>\n      <th>2021-01-06</th>\n      <td>82200</td>\n      <td>82984.000000</td>\n      <td>83002.469136</td>\n      <td>-18.469136</td>\n      <td>11.239103</td>\n      <td>-29.708239</td>\n    </tr>\n    <tr>\n      <th>2021-01-07</th>\n      <td>82900</td>\n      <td>82967.200000</td>\n      <td>82994.878829</td>\n      <td>-27.678829</td>\n      <td>5.679398</td>\n      <td>-33.358228</td>\n    </tr>\n    <tr>\n      <th>2021-01-08</th>\n      <td>88800</td>\n      <td>84133.760000</td>\n      <td>83424.887805</td>\n      <td>708.872195</td>\n      <td>106.135512</td>\n      <td>602.736683</td>\n    </tr>\n    <tr>\n      <th>...</th>\n      <td>...</td>\n      <td>...</td>\n      <td>...</td>\n      <td>...</td>\n      <td>...</td>\n      <td>...</td>\n    </tr>\n    <tr>\n      <th>2022-07-11</th>\n      <td>58800</td>\n      <td>58055.580094</td>\n      <td>59863.980810</td>\n      <td>-1808.400716</td>\n      <td>-2391.112872</td>\n      <td>582.712156</td>\n    </tr>\n    <tr>\n      <th>2022-07-12</th>\n      <td>58100</td>\n      <td>58064.464075</td>\n      <td>59733.315565</td>\n      <td>-1668.851490</td>\n      <td>-2287.932674</td>\n      <td>619.081185</td>\n    </tr>\n    <tr>\n      <th>2022-07-13</th>\n      <td>58000</td>\n      <td>58051.571260</td>\n      <td>59604.921820</td>\n      <td>-1553.350559</td>\n      <td>-2182.992372</td>\n      <td>629.641813</td>\n    </tr>\n    <tr>\n      <th>2022-07-14</th>\n      <td>57500</td>\n      <td>57941.257008</td>\n      <td>59449.001685</td>\n      <td>-1507.744676</td>\n      <td>-2086.528416</td>\n      <td>578.783739</td>\n    </tr>\n    <tr>\n      <th>2022-07-15</th>\n      <td>60000</td>\n      <td>58353.005607</td>\n      <td>59489.816375</td>\n      <td>-1136.810768</td>\n      <td>-1950.854466</td>\n      <td>814.043698</td>\n    </tr>\n  </tbody>\n</table>\n<p>380 rows × 6 columns</p>\n</div>"
     },
     "execution_count": 13,
     "metadata": {},
     "output_type": "execute_result"
    }
   ],
   "source": [
    "short_N = 9\n",
    "long_N = 26\n",
    "signal_N = 13\n",
    "\n",
    "df['Short'] = df['Close'].ewm(span = short_N, adjust=False).mean()\n",
    "df['Long'] = df['Close'].ewm(span = long_N, adjust = False).mean()\n",
    "df['MACD'] = df['Short'] - df['Long']\n",
    "df['Signal'] = df['MACD'].ewm(span = signal_N, adjust = False).mean()\n",
    "df['MACD Oscillator'] = df['MACD'] - df['Signal']\n",
    "df"
   ]
  },
  {
   "cell_type": "markdown",
   "metadata": {
    "ExecuteTime": {
     "end_time": "2021-12-12T10:08:26.237888Z",
     "start_time": "2021-12-12T10:08:26.220742Z"
    },
    "pycharm": {
     "name": "#%% md\n"
    }
   },
   "source": [
    "# macdOscillator_fn"
   ]
  },
  {
   "cell_type": "code",
   "execution_count": 68,
   "metadata": {
    "ExecuteTime": {
     "end_time": "2021-12-12T10:35:56.537551Z",
     "start_time": "2021-12-12T10:35:56.378077Z"
    },
    "pycharm": {
     "name": "#%%\n"
    }
   },
   "outputs": [
    {
     "data": {
      "text/html": [
       "<div>\n",
       "<style scoped>\n",
       "    .dataframe tbody tr th:only-of-type {\n",
       "        vertical-align: middle;\n",
       "    }\n",
       "\n",
       "    .dataframe tbody tr th {\n",
       "        vertical-align: top;\n",
       "    }\n",
       "\n",
       "    .dataframe thead th {\n",
       "        text-align: right;\n",
       "    }\n",
       "</style>\n",
       "<table border=\"1\" class=\"dataframe\">\n",
       "  <thead>\n",
       "    <tr style=\"text-align: right;\">\n",
       "      <th></th>\n",
       "      <th>Open</th>\n",
       "      <th>High</th>\n",
       "      <th>Low</th>\n",
       "      <th>Close</th>\n",
       "      <th>Volume</th>\n",
       "      <th>Change</th>\n",
       "    </tr>\n",
       "    <tr>\n",
       "      <th>Date</th>\n",
       "      <th></th>\n",
       "      <th></th>\n",
       "      <th></th>\n",
       "      <th></th>\n",
       "      <th></th>\n",
       "      <th></th>\n",
       "    </tr>\n",
       "  </thead>\n",
       "  <tbody>\n",
       "    <tr>\n",
       "      <th>2021-01-04</th>\n",
       "      <td>81000</td>\n",
       "      <td>84400</td>\n",
       "      <td>80200</td>\n",
       "      <td>83000</td>\n",
       "      <td>38655276</td>\n",
       "      <td>0.024691</td>\n",
       "    </tr>\n",
       "    <tr>\n",
       "      <th>2021-01-05</th>\n",
       "      <td>81600</td>\n",
       "      <td>83900</td>\n",
       "      <td>81600</td>\n",
       "      <td>83900</td>\n",
       "      <td>35335669</td>\n",
       "      <td>0.010843</td>\n",
       "    </tr>\n",
       "    <tr>\n",
       "      <th>2021-01-06</th>\n",
       "      <td>83300</td>\n",
       "      <td>84500</td>\n",
       "      <td>82100</td>\n",
       "      <td>82200</td>\n",
       "      <td>42089013</td>\n",
       "      <td>-0.020262</td>\n",
       "    </tr>\n",
       "    <tr>\n",
       "      <th>2021-01-07</th>\n",
       "      <td>82800</td>\n",
       "      <td>84200</td>\n",
       "      <td>82700</td>\n",
       "      <td>82900</td>\n",
       "      <td>32644642</td>\n",
       "      <td>0.008516</td>\n",
       "    </tr>\n",
       "    <tr>\n",
       "      <th>2021-01-08</th>\n",
       "      <td>83300</td>\n",
       "      <td>90000</td>\n",
       "      <td>83000</td>\n",
       "      <td>88800</td>\n",
       "      <td>59013307</td>\n",
       "      <td>0.071170</td>\n",
       "    </tr>\n",
       "    <tr>\n",
       "      <th>...</th>\n",
       "      <td>...</td>\n",
       "      <td>...</td>\n",
       "      <td>...</td>\n",
       "      <td>...</td>\n",
       "      <td>...</td>\n",
       "      <td>...</td>\n",
       "    </tr>\n",
       "    <tr>\n",
       "      <th>2021-12-06</th>\n",
       "      <td>75100</td>\n",
       "      <td>76700</td>\n",
       "      <td>74900</td>\n",
       "      <td>76300</td>\n",
       "      <td>16391250</td>\n",
       "      <td>0.009259</td>\n",
       "    </tr>\n",
       "    <tr>\n",
       "      <th>2021-12-07</th>\n",
       "      <td>76100</td>\n",
       "      <td>77700</td>\n",
       "      <td>75600</td>\n",
       "      <td>77400</td>\n",
       "      <td>19232453</td>\n",
       "      <td>0.014417</td>\n",
       "    </tr>\n",
       "    <tr>\n",
       "      <th>2021-12-08</th>\n",
       "      <td>78300</td>\n",
       "      <td>78600</td>\n",
       "      <td>77100</td>\n",
       "      <td>77400</td>\n",
       "      <td>21558340</td>\n",
       "      <td>0.000000</td>\n",
       "    </tr>\n",
       "    <tr>\n",
       "      <th>2021-12-09</th>\n",
       "      <td>77400</td>\n",
       "      <td>78200</td>\n",
       "      <td>77000</td>\n",
       "      <td>78200</td>\n",
       "      <td>21604528</td>\n",
       "      <td>0.010336</td>\n",
       "    </tr>\n",
       "    <tr>\n",
       "      <th>2021-12-10</th>\n",
       "      <td>77400</td>\n",
       "      <td>77600</td>\n",
       "      <td>76800</td>\n",
       "      <td>76900</td>\n",
       "      <td>9091202</td>\n",
       "      <td>-0.016624</td>\n",
       "    </tr>\n",
       "  </tbody>\n",
       "</table>\n",
       "<p>234 rows × 6 columns</p>\n",
       "</div>"
      ],
      "text/plain": [
       "             Open   High    Low  Close    Volume    Change\n",
       "Date                                                      \n",
       "2021-01-04  81000  84400  80200  83000  38655276  0.024691\n",
       "2021-01-05  81600  83900  81600  83900  35335669  0.010843\n",
       "2021-01-06  83300  84500  82100  82200  42089013 -0.020262\n",
       "2021-01-07  82800  84200  82700  82900  32644642  0.008516\n",
       "2021-01-08  83300  90000  83000  88800  59013307  0.071170\n",
       "...           ...    ...    ...    ...       ...       ...\n",
       "2021-12-06  75100  76700  74900  76300  16391250  0.009259\n",
       "2021-12-07  76100  77700  75600  77400  19232453  0.014417\n",
       "2021-12-08  78300  78600  77100  77400  21558340  0.000000\n",
       "2021-12-09  77400  78200  77000  78200  21604528  0.010336\n",
       "2021-12-10  77400  77600  76800  76900   9091202 -0.016624\n",
       "\n",
       "[234 rows x 6 columns]"
      ]
     },
     "execution_count": 68,
     "metadata": {},
     "output_type": "execute_result"
    }
   ],
   "source": [
    "import FinanceDataReader as fdr\n",
    "df = fdr.DataReader(\"005930\", start = '2021')"
   ]
  },
  {
   "cell_type": "code",
   "execution_count": 14,
   "metadata": {
    "ExecuteTime": {
     "end_time": "2021-12-12T10:40:25.602390Z",
     "start_time": "2021-12-12T10:40:25.590496Z"
    },
    "pycharm": {
     "name": "#%%\n"
    }
   },
   "outputs": [],
   "source": [
    "def macdOscillator_fn(df, short_N, long_N, signal_N):\n",
    "    df = df[['Close']].copy()\n",
    "    df['Short'] = df['Close'].ewm(span = short_N, adjust = False).mean()\n",
    "    df['Long'] = df['Close'].ewm(span = long_N, adjust = False).mean()\n",
    "    df['MACD'] = df['Short'] - df['Long']\n",
    "    df['Signal'] = df['MACD'].ewm(span = signal_N, adjust = False).mean()\n",
    "    df['MACD Oscillator'] = df['MACD'] - df['Signal']\n",
    "    return df[['MACD', 'Signal', 'MACD Oscillator']]"
   ]
  },
  {
   "cell_type": "code",
   "execution_count": 15,
   "metadata": {
    "ExecuteTime": {
     "end_time": "2021-12-12T10:41:14.539983Z",
     "start_time": "2021-12-12T10:41:14.522633Z"
    },
    "pycharm": {
     "name": "#%%\n"
    }
   },
   "outputs": [
    {
     "data": {
      "text/plain": "                   MACD       Signal  MACD Oscillator\nDate                                                 \n2021-01-04     0.000000     0.000000         0.000000\n2021-01-05   113.333333    16.190476        97.142857\n2021-01-06   -18.469136    11.239103       -29.708239\n2021-01-07   -27.678829     5.679398       -33.358228\n2021-01-08   708.872195   106.135512       602.736683\n...                 ...          ...              ...\n2022-07-11 -1808.400716 -2391.112872       582.712156\n2022-07-12 -1668.851490 -2287.932674       619.081185\n2022-07-13 -1553.350559 -2182.992372       629.641813\n2022-07-14 -1507.744676 -2086.528416       578.783739\n2022-07-15 -1136.810768 -1950.854466       814.043698\n\n[380 rows x 3 columns]",
      "text/html": "<div>\n<style scoped>\n    .dataframe tbody tr th:only-of-type {\n        vertical-align: middle;\n    }\n\n    .dataframe tbody tr th {\n        vertical-align: top;\n    }\n\n    .dataframe thead th {\n        text-align: right;\n    }\n</style>\n<table border=\"1\" class=\"dataframe\">\n  <thead>\n    <tr style=\"text-align: right;\">\n      <th></th>\n      <th>MACD</th>\n      <th>Signal</th>\n      <th>MACD Oscillator</th>\n    </tr>\n    <tr>\n      <th>Date</th>\n      <th></th>\n      <th></th>\n      <th></th>\n    </tr>\n  </thead>\n  <tbody>\n    <tr>\n      <th>2021-01-04</th>\n      <td>0.000000</td>\n      <td>0.000000</td>\n      <td>0.000000</td>\n    </tr>\n    <tr>\n      <th>2021-01-05</th>\n      <td>113.333333</td>\n      <td>16.190476</td>\n      <td>97.142857</td>\n    </tr>\n    <tr>\n      <th>2021-01-06</th>\n      <td>-18.469136</td>\n      <td>11.239103</td>\n      <td>-29.708239</td>\n    </tr>\n    <tr>\n      <th>2021-01-07</th>\n      <td>-27.678829</td>\n      <td>5.679398</td>\n      <td>-33.358228</td>\n    </tr>\n    <tr>\n      <th>2021-01-08</th>\n      <td>708.872195</td>\n      <td>106.135512</td>\n      <td>602.736683</td>\n    </tr>\n    <tr>\n      <th>...</th>\n      <td>...</td>\n      <td>...</td>\n      <td>...</td>\n    </tr>\n    <tr>\n      <th>2022-07-11</th>\n      <td>-1808.400716</td>\n      <td>-2391.112872</td>\n      <td>582.712156</td>\n    </tr>\n    <tr>\n      <th>2022-07-12</th>\n      <td>-1668.851490</td>\n      <td>-2287.932674</td>\n      <td>619.081185</td>\n    </tr>\n    <tr>\n      <th>2022-07-13</th>\n      <td>-1553.350559</td>\n      <td>-2182.992372</td>\n      <td>629.641813</td>\n    </tr>\n    <tr>\n      <th>2022-07-14</th>\n      <td>-1507.744676</td>\n      <td>-2086.528416</td>\n      <td>578.783739</td>\n    </tr>\n    <tr>\n      <th>2022-07-15</th>\n      <td>-1136.810768</td>\n      <td>-1950.854466</td>\n      <td>814.043698</td>\n    </tr>\n  </tbody>\n</table>\n<p>380 rows × 3 columns</p>\n</div>"
     },
     "execution_count": 15,
     "metadata": {},
     "output_type": "execute_result"
    }
   ],
   "source": [
    "df_macd_oscillator = macdOscillator_fn(df, short_N = 9, long_N = 26, signal_N = 13)\n",
    "df_macd_oscillator"
   ]
  },
  {
   "cell_type": "code",
   "execution_count": null,
   "metadata": {
    "pycharm": {
     "name": "#%%\n"
    }
   },
   "outputs": [],
   "source": []
  }
 ],
 "metadata": {
  "hide_input": false,
  "kernelspec": {
   "display_name": "Python 3",
   "language": "python",
   "name": "python3"
  },
  "language_info": {
   "codemirror_mode": {
    "name": "ipython",
    "version": 3
   },
   "file_extension": ".py",
   "mimetype": "text/x-python",
   "name": "python",
   "nbconvert_exporter": "python",
   "pygments_lexer": "ipython3",
   "version": "3.8.5"
  },
  "toc": {
   "base_numbering": 1,
   "nav_menu": {},
   "number_sections": true,
   "sideBar": true,
   "skip_h1_title": false,
   "title_cell": "Table of Contents",
   "title_sidebar": "Contents",
   "toc_cell": false,
   "toc_position": {
    "height": "calc(100% - 180px)",
    "left": "10px",
    "top": "150px",
    "width": "433px"
   },
   "toc_section_display": true,
   "toc_window_display": true
  },
  "varInspector": {
   "cols": {
    "lenName": 16,
    "lenType": 16,
    "lenVar": 40
   },
   "kernels_config": {
    "python": {
     "delete_cmd_postfix": "",
     "delete_cmd_prefix": "del ",
     "library": "var_list.py",
     "varRefreshCmd": "print(var_dic_list())"
    },
    "r": {
     "delete_cmd_postfix": ") ",
     "delete_cmd_prefix": "rm(",
     "library": "var_list.r",
     "varRefreshCmd": "cat(var_dic_list()) "
    }
   },
   "types_to_exclude": [
    "module",
    "function",
    "builtin_function_or_method",
    "instance",
    "_Feature"
   ],
   "window_display": false
  }
 },
 "nbformat": 4,
 "nbformat_minor": 4
}